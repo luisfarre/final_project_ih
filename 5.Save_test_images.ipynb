{
 "cells": [
  {
   "cell_type": "code",
   "execution_count": 14,
   "metadata": {},
   "outputs": [],
   "source": [
    "import os\n",
    "import numpy as np\n",
    "import pandas as pd\n",
    "import cv2\n",
    "from tqdm import tqdm\n",
    "import shutil"
   ]
  },
  {
   "cell_type": "code",
   "execution_count": 15,
   "metadata": {},
   "outputs": [],
   "source": [
    "TEST_PATH = '/home/jupyter/test_images/'\n",
    "TEST_L_PATH = '/home/jupyter/test_labels/'\n",
    "\n",
    "FRAME_PATH = os.path.join(os.getcwd(), 'images') \n",
    "\n",
    "MASK_PATH = os.path.join(os.getcwd(), 'labels')\n",
    "\n",
    "test_img_list_path = os.path.join(os.getcwd(), 'metadata/test_list.txt')"
   ]
  },
  {
   "cell_type": "code",
   "execution_count": 16,
   "metadata": {},
   "outputs": [],
   "source": [
    "def save_image(TEST_PATH, image_id):\n",
    "    \n",
    "    try:\n",
    "        if os.path.isfile(os.path.join(TEST_PATH, \"{}.jpg\".format(image_id)))==True:\n",
    "            return\n",
    "        else:\n",
    "            img_fp = os.path.join(FRAME_PATH, \"{}.jpg\".format(image_id))\n",
    "            image = cv2.imread(img_fp)\n",
    "            \n",
    "            img_ts = os.path.join(TEST_PATH, \"{}.jpg\".format(image_id))\n",
    "\n",
    "            cv2.imwrite(img_ts, image)\n",
    "    except:\n",
    "        #images missing that we won't add to the model\n",
    "\n",
    "        return image_id"
   ]
  },
  {
   "cell_type": "code",
   "execution_count": 17,
   "metadata": {},
   "outputs": [],
   "source": [
    "def save_label(TEST_L_PATH, image_id):\n",
    "    \n",
    "    shutil.copy2(f'{MASK_PATH}/{image_id}.txt', f'{TEST_L_PATH}/{image_id}.txt')\n"
   ]
  },
  {
   "cell_type": "code",
   "execution_count": 11,
   "metadata": {},
   "outputs": [
    {
     "name": "stderr",
     "output_type": "stream",
     "text": [
      "1302it [00:00, 73682.57it/s]\n"
     ]
    }
   ],
   "source": [
    "with open(test_img_list_path, \"r\") as test_img_list_f:\n",
    "    # tqdm run up to 1000(The # of test set)\n",
    "    for line in tqdm(test_img_list_f):\n",
    "        #print(line.strip().encode())\n",
    "\n",
    "        image_id = line.strip().split('/')[-1].strip().split('.')[0]\n",
    "\n",
    "        save_image(TEST_PATH, image_id)\n",
    "        save_label(TEST_L_PATH, image_id)\n",
    "        "
   ]
  },
  {
   "cell_type": "code",
   "execution_count": null,
   "metadata": {},
   "outputs": [],
   "source": []
  }
 ],
 "metadata": {
  "environment": {
   "name": "tf2-gpu.2-1.m46",
   "type": "gcloud",
   "uri": "gcr.io/deeplearning-platform-release/tf2-gpu.2-1:m46"
  },
  "kernelspec": {
   "display_name": "Python 3",
   "language": "python",
   "name": "python3"
  },
  "language_info": {
   "codemirror_mode": {
    "name": "ipython",
    "version": 3
   },
   "file_extension": ".py",
   "mimetype": "text/x-python",
   "name": "python",
   "nbconvert_exporter": "python",
   "pygments_lexer": "ipython3",
   "version": "3.7.6"
  }
 },
 "nbformat": 4,
 "nbformat_minor": 4
}
