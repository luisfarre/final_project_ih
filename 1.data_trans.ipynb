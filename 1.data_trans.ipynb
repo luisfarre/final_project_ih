{
 "cells": [
  {
   "cell_type": "markdown",
   "metadata": {},
   "source": [
    "### Imports"
   ]
  },
  {
   "cell_type": "code",
   "execution_count": 127,
   "metadata": {},
   "outputs": [],
   "source": [
    "import os\n",
    "import numpy as np\n",
    "import pandas as pd\n",
    "import matplotlib.pyplot as plt\n",
    "import seaborn as sns\n",
    "import cv2\n",
    "from sklearn.model_selection import train_test_split\n",
    "from tqdm import tqdm\n",
    "from google.cloud import storage\n",
    "from io import BytesIO"
   ]
  },
  {
   "cell_type": "markdown",
   "metadata": {},
   "source": [
    "#### Cloud"
   ]
  },
  {
   "cell_type": "code",
   "execution_count": 128,
   "metadata": {},
   "outputs": [],
   "source": [
    "storage_client = storage.Client(project = 'ih-final-project-277919')\n",
    "bucket = storage_client.get_bucket(\"data_images_ih\")"
   ]
  },
  {
   "cell_type": "markdown",
   "metadata": {},
   "source": [
    "#### Variables"
   ]
  },
  {
   "cell_type": "code",
   "execution_count": 129,
   "metadata": {},
   "outputs": [],
   "source": [
    "#image_size\n",
    "SIZE = 416\n",
    "MASK_SIZE = 0.15"
   ]
  },
  {
   "cell_type": "markdown",
   "metadata": {},
   "source": [
    "Download darknet and create darknet gpu"
   ]
  },
  {
   "cell_type": "code",
   "execution_count": 130,
   "metadata": {},
   "outputs": [],
   "source": [
    "#!git clone https://github.com/pjreddie/darknet.git\n",
    "\n",
    "#!wget -q https://pjreddie.com/media/files/darknet53.conv.74\n",
    "\n",
    "# Build gpu version darknet\n",
    "#!cd darknet && sed '1 s/^.*$/GPU=1/; 2 s/^.*$/CUDNN=1/' -i Makefile\n",
    "\n",
    "# -j <The # of cpu cores to use>. Change 999 to fit your environment. Actually i used '-j 50'.\n",
    "#!cd darknet && make -j 4 -s\n",
    "#!cp darknet/darknet darknet_gpu\n"
   ]
  },
  {
   "cell_type": "markdown",
   "metadata": {},
   "source": [
    "#### Paths"
   ]
  },
  {
   "cell_type": "code",
   "execution_count": 131,
   "metadata": {},
   "outputs": [],
   "source": [
    "RAW_DATA_PATH = '/home/jupyter/raw_data/'\n",
    "DATA_PATH = '/home/jupyter/data/'\n",
    "\n",
    "FRAME_PATH = os.path.join(os.getcwd(), 'images')  # .jpg\n",
    "MASK_PATH = os.path.join(os.getcwd(), 'labels')  # .txt\n",
    "METADATA_PATH = os.path.join(os.getcwd(), 'metadata') # .txt\n",
    "\n",
    "# YOLOv3 config file directory\n",
    "CONFIG_PATH = os.path.join(os.getcwd(), 'cfg')\n",
    "\n",
    "# YOLOv3 training weights will be saved here\n",
    "BACKUP_PATH = os.path.join(os.getcwd(), 'backup')\n",
    "\n",
    "DATA_EXTENSION_FILE_PATH = os.path.join(CONFIG_PATH, 'ih_fp.data')\n",
    "\n",
    "for directory in [FRAME_PATH, MASK_PATH, METADATA_PATH, CONFIG_PATH, BACKUP_PATH, RAW_DATA_PATH, DATA_PATH]:\n",
    "    if os.path.isdir(directory):\n",
    "        continue\n",
    "    os.mkdir(directory)"
   ]
  },
  {
   "cell_type": "markdown",
   "metadata": {},
   "source": [
    "### Data"
   ]
  },
  {
   "cell_type": "markdown",
   "metadata": {},
   "source": [
    "Read classes"
   ]
  },
  {
   "cell_type": "code",
   "execution_count": 132,
   "metadata": {},
   "outputs": [],
   "source": [
    "#colnames=['LabelName','Label']\n",
    "#df_class = pd.read_csv(f'{RAW_DATA_PATH}/class-descriptions-boxable.csv',names=colnames, header=None)\n",
    "#df_class.shape"
   ]
  },
  {
   "cell_type": "code",
   "execution_count": 133,
   "metadata": {},
   "outputs": [],
   "source": [
    "#df_class.head()"
   ]
  },
  {
   "cell_type": "markdown",
   "metadata": {},
   "source": [
    "Read images ids, boxes (this df can be improved)"
   ]
  },
  {
   "cell_type": "code",
   "execution_count": 134,
   "metadata": {},
   "outputs": [
    {
     "data": {
      "text/plain": [
       "(79113, 9)"
      ]
     },
     "execution_count": 134,
     "metadata": {},
     "output_type": "execute_result"
    }
   ],
   "source": [
    "annots = pd.read_csv(f'{DATA_PATH}/df_all_data.csv')\n",
    "annots.shape"
   ]
  },
  {
   "cell_type": "code",
   "execution_count": 135,
   "metadata": {},
   "outputs": [
    {
     "data": {
      "text/html": [
       "<div>\n",
       "<style scoped>\n",
       "    .dataframe tbody tr th:only-of-type {\n",
       "        vertical-align: middle;\n",
       "    }\n",
       "\n",
       "    .dataframe tbody tr th {\n",
       "        vertical-align: top;\n",
       "    }\n",
       "\n",
       "    .dataframe thead th {\n",
       "        text-align: right;\n",
       "    }\n",
       "</style>\n",
       "<table border=\"1\" class=\"dataframe\">\n",
       "  <thead>\n",
       "    <tr style=\"text-align: right;\">\n",
       "      <th></th>\n",
       "      <th>ImageID</th>\n",
       "      <th>OriginalURL</th>\n",
       "      <th>ImageID.1</th>\n",
       "      <th>XMin</th>\n",
       "      <th>XMax</th>\n",
       "      <th>YMin</th>\n",
       "      <th>YMax</th>\n",
       "      <th>Label</th>\n",
       "      <th>Confidence</th>\n",
       "    </tr>\n",
       "  </thead>\n",
       "  <tbody>\n",
       "    <tr>\n",
       "      <th>0</th>\n",
       "      <td>25e3acb1a25707dd</td>\n",
       "      <td>https://c6.staticflickr.com/8/7659/17891339551...</td>\n",
       "      <td>25e3acb1a25707dd</td>\n",
       "      <td>0.390625</td>\n",
       "      <td>0.999375</td>\n",
       "      <td>0.438149</td>\n",
       "      <td>0.999056</td>\n",
       "      <td>Boat</td>\n",
       "      <td>1</td>\n",
       "    </tr>\n",
       "    <tr>\n",
       "      <th>1</th>\n",
       "      <td>9aaa4a4bce049a85</td>\n",
       "      <td>https://farm6.staticflickr.com/8164/7388947910...</td>\n",
       "      <td>9aaa4a4bce049a85</td>\n",
       "      <td>0.015919</td>\n",
       "      <td>0.946454</td>\n",
       "      <td>0.096610</td>\n",
       "      <td>0.901695</td>\n",
       "      <td>Boat</td>\n",
       "      <td>1</td>\n",
       "    </tr>\n",
       "    <tr>\n",
       "      <th>2</th>\n",
       "      <td>6db5e012cf2936fa</td>\n",
       "      <td>https://c3.staticflickr.com/3/2874/9062318686_...</td>\n",
       "      <td>6db5e012cf2936fa</td>\n",
       "      <td>0.037500</td>\n",
       "      <td>0.999375</td>\n",
       "      <td>0.381341</td>\n",
       "      <td>0.999094</td>\n",
       "      <td>Boat</td>\n",
       "      <td>1</td>\n",
       "    </tr>\n",
       "    <tr>\n",
       "      <th>3</th>\n",
       "      <td>6db5e012cf2936fa</td>\n",
       "      <td>https://c3.staticflickr.com/3/2874/9062318686_...</td>\n",
       "      <td>6db5e012cf2936fa</td>\n",
       "      <td>0.185000</td>\n",
       "      <td>0.700000</td>\n",
       "      <td>0.241848</td>\n",
       "      <td>0.494565</td>\n",
       "      <td>Boat</td>\n",
       "      <td>1</td>\n",
       "    </tr>\n",
       "    <tr>\n",
       "      <th>4</th>\n",
       "      <td>6db5e012cf2936fa</td>\n",
       "      <td>https://c3.staticflickr.com/3/2874/9062318686_...</td>\n",
       "      <td>6db5e012cf2936fa</td>\n",
       "      <td>0.265625</td>\n",
       "      <td>0.778125</td>\n",
       "      <td>0.210145</td>\n",
       "      <td>0.526268</td>\n",
       "      <td>Boat</td>\n",
       "      <td>1</td>\n",
       "    </tr>\n",
       "  </tbody>\n",
       "</table>\n",
       "</div>"
      ],
      "text/plain": [
       "            ImageID                                        OriginalURL  \\\n",
       "0  25e3acb1a25707dd  https://c6.staticflickr.com/8/7659/17891339551...   \n",
       "1  9aaa4a4bce049a85  https://farm6.staticflickr.com/8164/7388947910...   \n",
       "2  6db5e012cf2936fa  https://c3.staticflickr.com/3/2874/9062318686_...   \n",
       "3  6db5e012cf2936fa  https://c3.staticflickr.com/3/2874/9062318686_...   \n",
       "4  6db5e012cf2936fa  https://c3.staticflickr.com/3/2874/9062318686_...   \n",
       "\n",
       "          ImageID.1      XMin      XMax      YMin      YMax Label  Confidence  \n",
       "0  25e3acb1a25707dd  0.390625  0.999375  0.438149  0.999056  Boat           1  \n",
       "1  9aaa4a4bce049a85  0.015919  0.946454  0.096610  0.901695  Boat           1  \n",
       "2  6db5e012cf2936fa  0.037500  0.999375  0.381341  0.999094  Boat           1  \n",
       "3  6db5e012cf2936fa  0.185000  0.700000  0.241848  0.494565  Boat           1  \n",
       "4  6db5e012cf2936fa  0.265625  0.778125  0.210145  0.526268  Boat           1  "
      ]
     },
     "execution_count": 135,
     "metadata": {},
     "output_type": "execute_result"
    }
   ],
   "source": [
    "annots.head()"
   ]
  },
  {
   "cell_type": "code",
   "execution_count": 136,
   "metadata": {},
   "outputs": [],
   "source": [
    "annots['Size'] = (annots['XMax'] - annots['XMin']) * (annots['YMax'] - annots['YMin'])"
   ]
  },
  {
   "cell_type": "code",
   "execution_count": 137,
   "metadata": {},
   "outputs": [],
   "source": [
    "annots = annots[annots['Size'] > MASK_SIZE]"
   ]
  },
  {
   "cell_type": "code",
   "execution_count": 138,
   "metadata": {},
   "outputs": [
    {
     "data": {
      "text/plain": [
       "(14853, 10)"
      ]
     },
     "execution_count": 138,
     "metadata": {},
     "output_type": "execute_result"
    }
   ],
   "source": [
    "annots.shape"
   ]
  },
  {
   "cell_type": "markdown",
   "metadata": {},
   "source": [
    "Merge both dataframes, maybe can be done on previous notebook"
   ]
  },
  {
   "cell_type": "markdown",
   "metadata": {},
   "source": [
    "Dataframe only with masks"
   ]
  },
  {
   "cell_type": "code",
   "execution_count": 139,
   "metadata": {},
   "outputs": [
    {
     "data": {
      "text/html": [
       "<div>\n",
       "<style scoped>\n",
       "    .dataframe tbody tr th:only-of-type {\n",
       "        vertical-align: middle;\n",
       "    }\n",
       "\n",
       "    .dataframe tbody tr th {\n",
       "        vertical-align: top;\n",
       "    }\n",
       "\n",
       "    .dataframe thead th {\n",
       "        text-align: right;\n",
       "    }\n",
       "</style>\n",
       "<table border=\"1\" class=\"dataframe\">\n",
       "  <thead>\n",
       "    <tr style=\"text-align: right;\">\n",
       "      <th></th>\n",
       "      <th>ImageID</th>\n",
       "      <th>XMin</th>\n",
       "      <th>XMax</th>\n",
       "      <th>YMin</th>\n",
       "      <th>YMax</th>\n",
       "      <th>Label</th>\n",
       "      <th>Confidence</th>\n",
       "      <th>Size</th>\n",
       "    </tr>\n",
       "  </thead>\n",
       "  <tbody>\n",
       "    <tr>\n",
       "      <th>0</th>\n",
       "      <td>25e3acb1a25707dd</td>\n",
       "      <td>0.390625</td>\n",
       "      <td>0.999375</td>\n",
       "      <td>0.438149</td>\n",
       "      <td>0.999056</td>\n",
       "      <td>Boat</td>\n",
       "      <td>1</td>\n",
       "      <td>0.341452</td>\n",
       "    </tr>\n",
       "    <tr>\n",
       "      <th>1</th>\n",
       "      <td>9aaa4a4bce049a85</td>\n",
       "      <td>0.015919</td>\n",
       "      <td>0.946454</td>\n",
       "      <td>0.096610</td>\n",
       "      <td>0.901695</td>\n",
       "      <td>Boat</td>\n",
       "      <td>1</td>\n",
       "      <td>0.749160</td>\n",
       "    </tr>\n",
       "    <tr>\n",
       "      <th>2</th>\n",
       "      <td>6db5e012cf2936fa</td>\n",
       "      <td>0.037500</td>\n",
       "      <td>0.999375</td>\n",
       "      <td>0.381341</td>\n",
       "      <td>0.999094</td>\n",
       "      <td>Boat</td>\n",
       "      <td>1</td>\n",
       "      <td>0.594201</td>\n",
       "    </tr>\n",
       "    <tr>\n",
       "      <th>4</th>\n",
       "      <td>6db5e012cf2936fa</td>\n",
       "      <td>0.265625</td>\n",
       "      <td>0.778125</td>\n",
       "      <td>0.210145</td>\n",
       "      <td>0.526268</td>\n",
       "      <td>Boat</td>\n",
       "      <td>1</td>\n",
       "      <td>0.162013</td>\n",
       "    </tr>\n",
       "    <tr>\n",
       "      <th>5</th>\n",
       "      <td>6db5e012cf2936fa</td>\n",
       "      <td>0.333750</td>\n",
       "      <td>0.941250</td>\n",
       "      <td>0.229167</td>\n",
       "      <td>0.650362</td>\n",
       "      <td>Boat</td>\n",
       "      <td>1</td>\n",
       "      <td>0.255876</td>\n",
       "    </tr>\n",
       "  </tbody>\n",
       "</table>\n",
       "</div>"
      ],
      "text/plain": [
       "            ImageID      XMin      XMax      YMin      YMax Label  Confidence  \\\n",
       "0  25e3acb1a25707dd  0.390625  0.999375  0.438149  0.999056  Boat           1   \n",
       "1  9aaa4a4bce049a85  0.015919  0.946454  0.096610  0.901695  Boat           1   \n",
       "2  6db5e012cf2936fa  0.037500  0.999375  0.381341  0.999094  Boat           1   \n",
       "4  6db5e012cf2936fa  0.265625  0.778125  0.210145  0.526268  Boat           1   \n",
       "5  6db5e012cf2936fa  0.333750  0.941250  0.229167  0.650362  Boat           1   \n",
       "\n",
       "       Size  \n",
       "0  0.341452  \n",
       "1  0.749160  \n",
       "2  0.594201  \n",
       "4  0.162013  \n",
       "5  0.255876  "
      ]
     },
     "execution_count": 139,
     "metadata": {},
     "output_type": "execute_result"
    }
   ],
   "source": [
    "annots_masks = annots[['ImageID','XMin', 'XMax', 'YMin', 'YMax','Label','Confidence','Size']]\n",
    "annots_masks.head()"
   ]
  },
  {
   "cell_type": "code",
   "execution_count": 140,
   "metadata": {},
   "outputs": [],
   "source": [
    "annots_masks.to_csv(f'{DATA_PATH}/annots_masks.csv', index = False)"
   ]
  },
  {
   "cell_type": "markdown",
   "metadata": {},
   "source": [
    "Functions to save images and levels to proper folders and format"
   ]
  },
  {
   "cell_type": "code",
   "execution_count": 141,
   "metadata": {},
   "outputs": [],
   "source": [
    "def save_label(MASK_PATH, image_id, row=None):\n",
    "\n",
    "    label_fp = os.path.join(MASK_PATH, \"{}.txt\".format(image_id))\n",
    "\n",
    "    f = open(label_fp, \"a\")\n",
    "    if row is None:\n",
    "        f.close()\n",
    "        return\n",
    "\n",
    "    XMin = row[1]\n",
    "    XMax = row[2]\n",
    "    YMin = row[3]\n",
    "    YMax = row[4]\n",
    "    label = row[5]\n",
    "    label = 0 #as we only have one class we use 0\n",
    "\n",
    "    rw = (XMax - XMin)\n",
    "    rh = (YMax - YMin)\n",
    "    rcx = XMin + rw/2\n",
    "    rcy = YMin + rh/2\n",
    "\n",
    "    line = \"{} {} {} {} {}\\n\".format(label, rcx, rcy, rw, rh)\n",
    "\n",
    "    f.write(line)\n",
    "    f.close()"
   ]
  },
  {
   "cell_type": "code",
   "execution_count": 142,
   "metadata": {},
   "outputs": [
    {
     "name": "stderr",
     "output_type": "stream",
     "text": [
      "100%|██████████| 14853/14853 [00:00<00:00, 15002.90it/s]\n"
     ]
    }
   ],
   "source": [
    "for row in tqdm(annots_masks.values):\n",
    "        image_id = row[0]\n",
    "        save_label(MASK_PATH, image_id, row)"
   ]
  },
  {
   "cell_type": "markdown",
   "metadata": {},
   "source": [
    "Dataframe with imageid and url"
   ]
  },
  {
   "cell_type": "code",
   "execution_count": 143,
   "metadata": {},
   "outputs": [
    {
     "name": "stderr",
     "output_type": "stream",
     "text": [
      "/opt/conda/lib/python3.7/site-packages/ipykernel_launcher.py:2: SettingWithCopyWarning: \n",
      "A value is trying to be set on a copy of a slice from a DataFrame.\n",
      "Try using .loc[row_indexer,col_indexer] = value instead\n",
      "\n",
      "See the caveats in the documentation: https://pandas.pydata.org/pandas-docs/stable/user_guide/indexing.html#returning-a-view-versus-a-copy\n",
      "  \n",
      "/opt/conda/lib/python3.7/site-packages/ipykernel_launcher.py:3: SettingWithCopyWarning: \n",
      "A value is trying to be set on a copy of a slice from a DataFrame\n",
      "\n",
      "See the caveats in the documentation: https://pandas.pydata.org/pandas-docs/stable/user_guide/indexing.html#returning-a-view-versus-a-copy\n",
      "  This is separate from the ipykernel package so we can avoid doing imports until\n"
     ]
    },
    {
     "data": {
      "text/plain": [
       "(13322, 3)"
      ]
     },
     "execution_count": 143,
     "metadata": {},
     "output_type": "execute_result"
    }
   ],
   "source": [
    "image_annots = annots[['ImageID','OriginalURL','Size']]\n",
    "image_annots['OriginalURL'] = image_annots['OriginalURL'].str.replace('https://','')\n",
    "image_annots.drop_duplicates(['ImageID'], inplace = True)\n",
    "image_annots.shape"
   ]
  },
  {
   "cell_type": "code",
   "execution_count": 144,
   "metadata": {},
   "outputs": [],
   "source": [
    "def save_image(FRAME_PATH, image_id, image_blob, dim):\n",
    "    \n",
    "    \n",
    "    try:\n",
    "        if os.path.isfile(os.path.join(FRAME_PATH, \"{}.jpg\".format(image_id)))==True:\n",
    "            return\n",
    "        else:\n",
    "            img_fp = os.path.join(FRAME_PATH, \"{}.jpg\".format(image_id))\n",
    "            image = np.asarray(bytearray(image_blob.download_as_string()), dtype=\"uint8\")\n",
    "            image = cv2.imdecode(image, cv2.IMREAD_UNCHANGED)\n",
    "            resized_image = cv2.resize(image, dim, interpolation=cv2.INTER_AREA)\n",
    "\n",
    "            if len(resized_image.shape) == 2:\n",
    "                resized_image = cv2.cvtColor(resized_image,cv2.COLOR_GRAY2RGB)\n",
    "\n",
    "            cv2.imwrite(img_fp, resized_image)\n",
    "    except:\n",
    "        #images missing that we won't add to the model\n",
    "\n",
    "        return image_id"
   ]
  },
  {
   "cell_type": "code",
   "execution_count": 145,
   "metadata": {},
   "outputs": [],
   "source": [
    "WIDTH = SIZE\n",
    "HEIGHT = SIZE\n",
    "dim = (WIDTH, HEIGHT)"
   ]
  },
  {
   "cell_type": "code",
   "execution_count": 146,
   "metadata": {},
   "outputs": [
    {
     "name": "stderr",
     "output_type": "stream",
     "text": [
      "100%|██████████| 13322/13322 [01:04<00:00, 205.51it/s]\n"
     ]
    }
   ],
   "source": [
    "not_images =[]\n",
    "for row in tqdm(image_annots.values):\n",
    "        image_id = row[0]\n",
    "        image_blob = bucket.blob(row[1])\n",
    "        not_img = save_image(FRAME_PATH, image_id,image_blob,dim)\n",
    "        \n",
    "        not_images.append(not_img)"
   ]
  },
  {
   "cell_type": "code",
   "execution_count": 147,
   "metadata": {},
   "outputs": [],
   "source": [
    "not_images_2 = [x for x in not_images if x is not None]\n",
    "image_annots = image_annots[~image_annots['ImageID'].isin(not_images_2)]"
   ]
  },
  {
   "cell_type": "code",
   "execution_count": 148,
   "metadata": {},
   "outputs": [],
   "source": [
    "image_annots.to_csv(f'{DATA_PATH}/image_annots.csv', index = False)"
   ]
  },
  {
   "cell_type": "code",
   "execution_count": 149,
   "metadata": {},
   "outputs": [],
   "source": [
    "#Save image_annots as csv\n",
    "#Now all data is transformed"
   ]
  },
  {
   "cell_type": "code",
   "execution_count": 150,
   "metadata": {},
   "outputs": [],
   "source": [
    "#Show an example"
   ]
  },
  {
   "cell_type": "code",
   "execution_count": 151,
   "metadata": {},
   "outputs": [
    {
     "data": {
      "image/png": "[encoded data removed]",
      "text/plain": [
       "<Figure size 432x288 with 1 Axes>"
      ]
     },
     "metadata": {
      "needs_background": "light"
     },
     "output_type": "display_data"
    }
   ],
   "source": [
    "ex_image_id = annots.ImageID.values[200]\n",
    "ex_img_path = os.path.join(FRAME_PATH, \"{}.jpg\".format(ex_image_id))\n",
    "ex_label_path = os.path.join(MASK_PATH, \"{}.txt\".format(ex_image_id))\n",
    "\n",
    "plt.imshow(cv2.cvtColor(cv2.imread(ex_img_path),cv2.COLOR_BGR2RGB))\n",
    "    \n",
    "with open(ex_label_path, \"r\") as f:\n",
    "    for line in f:\n",
    "        x = line.strip().split()\n",
    "        class_name  = x[0]\n",
    "        rcx, rcy, rw, rh = [float(i) for i in x[1:]]\n",
    "        x = (rcx-rw/2)*dim[0]\n",
    "        y = (rcy-rh/2)*dim[1]\n",
    "        w = rw*dim[0]\n",
    "        h = rh*dim[1]\n",
    "        plt.plot([x, x, x+w, x+w, x], [y, y+h, y+h, y, y])"
   ]
  },
  {
   "cell_type": "code",
   "execution_count": null,
   "metadata": {},
   "outputs": [],
   "source": []
  },
  {
   "cell_type": "code",
   "execution_count": null,
   "metadata": {},
   "outputs": [],
   "source": []
  }
 ],
 "metadata": {
  "environment": {
   "name": "tf2-gpu.2-1.m46",
   "type": "gcloud",
   "uri": "gcr.io/deeplearning-platform-release/tf2-gpu.2-1:m46"
  },
  "kernelspec": {
   "display_name": "Python 3",
   "language": "python",
   "name": "python3"
  },
  "language_info": {
   "codemirror_mode": {
    "name": "ipython",
    "version": 3
   },
   "file_extension": ".py",
   "mimetype": "text/x-python",
   "name": "python",
   "nbconvert_exporter": "python",
   "pygments_lexer": "ipython3",
   "version": "3.7.6"
  }
 },
 "nbformat": 4,
 "nbformat_minor": 4
}
