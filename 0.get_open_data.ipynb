{
 "cells": [
  {
   "cell_type": "markdown",
   "metadata": {},
   "source": [
    "#### Imports"
   ]
  },
  {
   "cell_type": "code",
   "execution_count": 1,
   "metadata": {},
   "outputs": [],
   "source": [
    "import pandas as pd\n",
    "import numpy as np\n",
    "import os\n",
    "from google.cloud import storage\n",
    "from io import BytesIO"
   ]
  },
  {
   "cell_type": "markdown",
   "metadata": {},
   "source": [
    "### Paths"
   ]
  },
  {
   "cell_type": "code",
   "execution_count": 2,
   "metadata": {},
   "outputs": [],
   "source": [
    "RAW_DATA_PATH = os.path.join(os.getcwd(), 'raw_data')\n",
    "DATA_PATH = os.path.join(os.getcwd(), 'data')"
   ]
  },
  {
   "cell_type": "code",
   "execution_count": 3,
   "metadata": {},
   "outputs": [],
   "source": [
    "storage_client = storage.Client(project = 'ih-final-project-277919')\n",
    "bucket = storage_client.get_bucket('final_project_ih_data_dl')"
   ]
  },
  {
   "cell_type": "code",
   "execution_count": 4,
   "metadata": {},
   "outputs": [],
   "source": [
    "#list(bucket.list_blobs())"
   ]
  },
  {
   "cell_type": "code",
   "execution_count": 5,
   "metadata": {},
   "outputs": [],
   "source": [
    "blob = storage.blob.Blob('data/class-descriptions-boxable.csv',bucket)\n",
    "cnt = blob.download_as_string() \n",
    "colnames=['LabelName','Label']\n",
    "df_class = pd.read_csv(BytesIO(cnt),names=colnames, header=None)"
   ]
  },
  {
   "cell_type": "code",
   "execution_count": 6,
   "metadata": {},
   "outputs": [
    {
     "data": {
      "text/html": [
       "<div>\n",
       "<style scoped>\n",
       "    .dataframe tbody tr th:only-of-type {\n",
       "        vertical-align: middle;\n",
       "    }\n",
       "\n",
       "    .dataframe tbody tr th {\n",
       "        vertical-align: top;\n",
       "    }\n",
       "\n",
       "    .dataframe thead th {\n",
       "        text-align: right;\n",
       "    }\n",
       "</style>\n",
       "<table border=\"1\" class=\"dataframe\">\n",
       "  <thead>\n",
       "    <tr style=\"text-align: right;\">\n",
       "      <th></th>\n",
       "      <th>LabelName</th>\n",
       "      <th>Label</th>\n",
       "    </tr>\n",
       "  </thead>\n",
       "  <tbody>\n",
       "    <tr>\n",
       "      <th>0</th>\n",
       "      <td>LabelKey</td>\n",
       "      <td>Label</td>\n",
       "    </tr>\n",
       "    <tr>\n",
       "      <th>1</th>\n",
       "      <td>/m/011k07</td>\n",
       "      <td>Tortoise</td>\n",
       "    </tr>\n",
       "    <tr>\n",
       "      <th>2</th>\n",
       "      <td>/m/011q46kg</td>\n",
       "      <td>Container</td>\n",
       "    </tr>\n",
       "    <tr>\n",
       "      <th>3</th>\n",
       "      <td>/m/012074</td>\n",
       "      <td>Magpie</td>\n",
       "    </tr>\n",
       "    <tr>\n",
       "      <th>4</th>\n",
       "      <td>/m/0120dh</td>\n",
       "      <td>Sea turtle</td>\n",
       "    </tr>\n",
       "  </tbody>\n",
       "</table>\n",
       "</div>"
      ],
      "text/plain": [
       "     LabelName       Label\n",
       "0     LabelKey       Label\n",
       "1    /m/011k07    Tortoise\n",
       "2  /m/011q46kg   Container\n",
       "3    /m/012074      Magpie\n",
       "4    /m/0120dh  Sea turtle"
      ]
     },
     "execution_count": 6,
     "metadata": {},
     "output_type": "execute_result"
    }
   ],
   "source": [
    "df_class.head()"
   ]
  },
  {
   "cell_type": "code",
   "execution_count": 7,
   "metadata": {},
   "outputs": [
    {
     "data": {
      "text/plain": [
       "array(['Label', 'Tortoise', 'Container', 'Magpie', 'Sea turtle',\n",
       "       'Football', 'Ambulance', 'Ladder', 'Toothbrush', 'Syringe', 'Sink',\n",
       "       'Toy', 'Organ (Musical Instrument)', 'Cassette deck', 'Apple',\n",
       "       'Human eye', 'Cosmetics', 'Paddle', 'Snowman', 'Beer',\n",
       "       'Chopsticks', 'Human beard', 'Bird', 'Parking meter',\n",
       "       'Traffic light', 'Croissant', 'Cucumber', 'Radish', 'Towel',\n",
       "       'Doll', 'Skull', 'Washing machine', 'Glove', 'Tick', 'Belt',\n",
       "       'Sunglasses', 'Banjo', 'Cart', 'Ball', 'Backpack', 'Bicycle',\n",
       "       'Home appliance', 'Centipede', 'Boat', 'Surfboard', 'Boot',\n",
       "       'Headphones', 'Hot dog', 'Shorts', 'Fast food'], dtype=object)"
      ]
     },
     "execution_count": 7,
     "metadata": {},
     "output_type": "execute_result"
    }
   ],
   "source": [
    "df_class['Label'].unique()[:50]"
   ]
  },
  {
   "cell_type": "code",
   "execution_count": 8,
   "metadata": {},
   "outputs": [],
   "source": [
    "classes = ['Car']"
   ]
  },
  {
   "cell_type": "code",
   "execution_count": 9,
   "metadata": {},
   "outputs": [],
   "source": [
    "classes_keys = df_class['LabelName'][df_class['Label'].isin(classes)].unique()"
   ]
  },
  {
   "cell_type": "code",
   "execution_count": 10,
   "metadata": {},
   "outputs": [],
   "source": [
    "blob = storage.blob.Blob('data/oidv6-train-annotations-bbox.csv',bucket)\n",
    "cnt = blob.download_as_string() \n",
    "iter_csv = pd.read_csv(BytesIO(cnt), iterator=True, chunksize=10000)\n",
    "df_boxes = pd.concat([chunk[chunk['LabelName'].isin(classes_keys)] for chunk in iter_csv])"
   ]
  },
  {
   "cell_type": "code",
   "execution_count": 11,
   "metadata": {},
   "outputs": [
    {
     "data": {
      "text/plain": [
       "(248075, 21)"
      ]
     },
     "execution_count": 11,
     "metadata": {},
     "output_type": "execute_result"
    }
   ],
   "source": [
    "df_boxes.shape"
   ]
  },
  {
   "cell_type": "code",
   "execution_count": 12,
   "metadata": {},
   "outputs": [
    {
     "data": {
      "text/html": [
       "<div>\n",
       "<style scoped>\n",
       "    .dataframe tbody tr th:only-of-type {\n",
       "        vertical-align: middle;\n",
       "    }\n",
       "\n",
       "    .dataframe tbody tr th {\n",
       "        vertical-align: top;\n",
       "    }\n",
       "\n",
       "    .dataframe thead th {\n",
       "        text-align: right;\n",
       "    }\n",
       "</style>\n",
       "<table border=\"1\" class=\"dataframe\">\n",
       "  <thead>\n",
       "    <tr style=\"text-align: right;\">\n",
       "      <th></th>\n",
       "      <th>ImageID</th>\n",
       "      <th>Source</th>\n",
       "      <th>LabelName</th>\n",
       "      <th>Confidence</th>\n",
       "      <th>XMin</th>\n",
       "      <th>XMax</th>\n",
       "      <th>YMin</th>\n",
       "      <th>YMax</th>\n",
       "      <th>IsOccluded</th>\n",
       "      <th>IsTruncated</th>\n",
       "      <th>...</th>\n",
       "      <th>IsDepiction</th>\n",
       "      <th>IsInside</th>\n",
       "      <th>XClick1X</th>\n",
       "      <th>XClick2X</th>\n",
       "      <th>XClick3X</th>\n",
       "      <th>XClick4X</th>\n",
       "      <th>XClick1Y</th>\n",
       "      <th>XClick2Y</th>\n",
       "      <th>XClick3Y</th>\n",
       "      <th>XClick4Y</th>\n",
       "    </tr>\n",
       "  </thead>\n",
       "  <tbody>\n",
       "    <tr>\n",
       "      <th>29</th>\n",
       "      <td>0000048549557964</td>\n",
       "      <td>xclick</td>\n",
       "      <td>/m/0k4j</td>\n",
       "      <td>1</td>\n",
       "      <td>0.194375</td>\n",
       "      <td>0.326250</td>\n",
       "      <td>0.720000</td>\n",
       "      <td>0.758333</td>\n",
       "      <td>1</td>\n",
       "      <td>0</td>\n",
       "      <td>...</td>\n",
       "      <td>0</td>\n",
       "      <td>0</td>\n",
       "      <td>0.326250</td>\n",
       "      <td>0.194375</td>\n",
       "      <td>0.283750</td>\n",
       "      <td>0.238125</td>\n",
       "      <td>0.753333</td>\n",
       "      <td>0.744167</td>\n",
       "      <td>0.758333</td>\n",
       "      <td>0.720000</td>\n",
       "    </tr>\n",
       "    <tr>\n",
       "      <th>30</th>\n",
       "      <td>0000048549557964</td>\n",
       "      <td>xclick</td>\n",
       "      <td>/m/0k4j</td>\n",
       "      <td>1</td>\n",
       "      <td>0.435000</td>\n",
       "      <td>0.725625</td>\n",
       "      <td>0.698333</td>\n",
       "      <td>0.944167</td>\n",
       "      <td>0</td>\n",
       "      <td>0</td>\n",
       "      <td>...</td>\n",
       "      <td>0</td>\n",
       "      <td>0</td>\n",
       "      <td>0.435000</td>\n",
       "      <td>0.725625</td>\n",
       "      <td>0.609375</td>\n",
       "      <td>0.585625</td>\n",
       "      <td>0.871667</td>\n",
       "      <td>0.815000</td>\n",
       "      <td>0.698333</td>\n",
       "      <td>0.944167</td>\n",
       "    </tr>\n",
       "    <tr>\n",
       "      <th>31</th>\n",
       "      <td>0000048549557964</td>\n",
       "      <td>xclick</td>\n",
       "      <td>/m/0k4j</td>\n",
       "      <td>1</td>\n",
       "      <td>0.706250</td>\n",
       "      <td>0.936875</td>\n",
       "      <td>0.685833</td>\n",
       "      <td>0.865000</td>\n",
       "      <td>1</td>\n",
       "      <td>0</td>\n",
       "      <td>...</td>\n",
       "      <td>0</td>\n",
       "      <td>0</td>\n",
       "      <td>0.706250</td>\n",
       "      <td>0.936875</td>\n",
       "      <td>0.783750</td>\n",
       "      <td>0.788750</td>\n",
       "      <td>0.763333</td>\n",
       "      <td>0.724167</td>\n",
       "      <td>0.865000</td>\n",
       "      <td>0.685833</td>\n",
       "    </tr>\n",
       "    <tr>\n",
       "      <th>32</th>\n",
       "      <td>0000048549557964</td>\n",
       "      <td>xclick</td>\n",
       "      <td>/m/0k4j</td>\n",
       "      <td>1</td>\n",
       "      <td>0.828750</td>\n",
       "      <td>0.999375</td>\n",
       "      <td>0.692500</td>\n",
       "      <td>0.908333</td>\n",
       "      <td>0</td>\n",
       "      <td>1</td>\n",
       "      <td>...</td>\n",
       "      <td>0</td>\n",
       "      <td>0</td>\n",
       "      <td>0.958125</td>\n",
       "      <td>0.828750</td>\n",
       "      <td>0.958125</td>\n",
       "      <td>0.999375</td>\n",
       "      <td>0.908333</td>\n",
       "      <td>0.830833</td>\n",
       "      <td>0.692500</td>\n",
       "      <td>0.732500</td>\n",
       "    </tr>\n",
       "    <tr>\n",
       "      <th>503</th>\n",
       "      <td>0000575f5a03db70</td>\n",
       "      <td>xclick</td>\n",
       "      <td>/m/0k4j</td>\n",
       "      <td>1</td>\n",
       "      <td>0.026563</td>\n",
       "      <td>0.982813</td>\n",
       "      <td>0.164127</td>\n",
       "      <td>0.839390</td>\n",
       "      <td>0</td>\n",
       "      <td>0</td>\n",
       "      <td>...</td>\n",
       "      <td>0</td>\n",
       "      <td>0</td>\n",
       "      <td>0.982813</td>\n",
       "      <td>0.026563</td>\n",
       "      <td>0.273438</td>\n",
       "      <td>0.572656</td>\n",
       "      <td>0.574443</td>\n",
       "      <td>0.627198</td>\n",
       "      <td>0.164127</td>\n",
       "      <td>0.839390</td>\n",
       "    </tr>\n",
       "  </tbody>\n",
       "</table>\n",
       "<p>5 rows × 21 columns</p>\n",
       "</div>"
      ],
      "text/plain": [
       "              ImageID  Source LabelName  Confidence      XMin      XMax  \\\n",
       "29   0000048549557964  xclick   /m/0k4j           1  0.194375  0.326250   \n",
       "30   0000048549557964  xclick   /m/0k4j           1  0.435000  0.725625   \n",
       "31   0000048549557964  xclick   /m/0k4j           1  0.706250  0.936875   \n",
       "32   0000048549557964  xclick   /m/0k4j           1  0.828750  0.999375   \n",
       "503  0000575f5a03db70  xclick   /m/0k4j           1  0.026563  0.982813   \n",
       "\n",
       "         YMin      YMax  IsOccluded  IsTruncated  ...  IsDepiction  IsInside  \\\n",
       "29   0.720000  0.758333           1            0  ...            0         0   \n",
       "30   0.698333  0.944167           0            0  ...            0         0   \n",
       "31   0.685833  0.865000           1            0  ...            0         0   \n",
       "32   0.692500  0.908333           0            1  ...            0         0   \n",
       "503  0.164127  0.839390           0            0  ...            0         0   \n",
       "\n",
       "     XClick1X  XClick2X  XClick3X  XClick4X  XClick1Y  XClick2Y  XClick3Y  \\\n",
       "29   0.326250  0.194375  0.283750  0.238125  0.753333  0.744167  0.758333   \n",
       "30   0.435000  0.725625  0.609375  0.585625  0.871667  0.815000  0.698333   \n",
       "31   0.706250  0.936875  0.783750  0.788750  0.763333  0.724167  0.865000   \n",
       "32   0.958125  0.828750  0.958125  0.999375  0.908333  0.830833  0.692500   \n",
       "503  0.982813  0.026563  0.273438  0.572656  0.574443  0.627198  0.164127   \n",
       "\n",
       "     XClick4Y  \n",
       "29   0.720000  \n",
       "30   0.944167  \n",
       "31   0.685833  \n",
       "32   0.732500  \n",
       "503  0.839390  \n",
       "\n",
       "[5 rows x 21 columns]"
      ]
     },
     "execution_count": 12,
     "metadata": {},
     "output_type": "execute_result"
    }
   ],
   "source": [
    "df_boxes.head()"
   ]
  },
  {
   "cell_type": "code",
   "execution_count": 13,
   "metadata": {},
   "outputs": [
    {
     "data": {
      "text/plain": [
       "Index(['ImageID', 'Source', 'LabelName', 'Confidence', 'XMin', 'XMax', 'YMin',\n",
       "       'YMax', 'IsOccluded', 'IsTruncated', 'IsGroupOf', 'IsDepiction',\n",
       "       'IsInside', 'XClick1X', 'XClick2X', 'XClick3X', 'XClick4X', 'XClick1Y',\n",
       "       'XClick2Y', 'XClick3Y', 'XClick4Y'],\n",
       "      dtype='object')"
      ]
     },
     "execution_count": 13,
     "metadata": {},
     "output_type": "execute_result"
    }
   ],
   "source": [
    "df_boxes.columns"
   ]
  },
  {
   "cell_type": "code",
   "execution_count": 14,
   "metadata": {},
   "outputs": [],
   "source": [
    "ID_list = df_boxes['ImageID'].unique()"
   ]
  },
  {
   "cell_type": "code",
   "execution_count": 15,
   "metadata": {},
   "outputs": [],
   "source": [
    "blob = storage.blob.Blob('data/train-images-boxable-with-rotation.csv',bucket)\n",
    "cnt = blob.download_as_string() \n",
    "iter_csv = pd.read_csv(BytesIO(cnt), iterator=True, chunksize=10000)\n",
    "df_image = pd.concat([chunk[chunk['ImageID'].isin(ID_list)] for chunk in iter_csv])"
   ]
  },
  {
   "cell_type": "code",
   "execution_count": 16,
   "metadata": {},
   "outputs": [
    {
     "data": {
      "text/plain": [
       "(89465, 12)"
      ]
     },
     "execution_count": 16,
     "metadata": {},
     "output_type": "execute_result"
    }
   ],
   "source": [
    "df_image.shape"
   ]
  },
  {
   "cell_type": "code",
   "execution_count": 17,
   "metadata": {},
   "outputs": [
    {
     "data": {
      "text/plain": [
       "Index(['ImageID', 'Subset', 'OriginalURL', 'OriginalLandingURL', 'License',\n",
       "       'AuthorProfileURL', 'Author', 'Title', 'OriginalSize', 'OriginalMD5',\n",
       "       'Thumbnail300KURL', 'Rotation'],\n",
       "      dtype='object')"
      ]
     },
     "execution_count": 17,
     "metadata": {},
     "output_type": "execute_result"
    }
   ],
   "source": [
    "df_image.columns"
   ]
  },
  {
   "cell_type": "code",
   "execution_count": 18,
   "metadata": {},
   "outputs": [
    {
     "data": {
      "text/html": [
       "<div>\n",
       "<style scoped>\n",
       "    .dataframe tbody tr th:only-of-type {\n",
       "        vertical-align: middle;\n",
       "    }\n",
       "\n",
       "    .dataframe tbody tr th {\n",
       "        vertical-align: top;\n",
       "    }\n",
       "\n",
       "    .dataframe thead th {\n",
       "        text-align: right;\n",
       "    }\n",
       "</style>\n",
       "<table border=\"1\" class=\"dataframe\">\n",
       "  <thead>\n",
       "    <tr style=\"text-align: right;\">\n",
       "      <th></th>\n",
       "      <th>ImageID</th>\n",
       "      <th>Subset</th>\n",
       "      <th>OriginalURL</th>\n",
       "      <th>OriginalLandingURL</th>\n",
       "      <th>License</th>\n",
       "      <th>AuthorProfileURL</th>\n",
       "      <th>Author</th>\n",
       "      <th>Title</th>\n",
       "      <th>OriginalSize</th>\n",
       "      <th>OriginalMD5</th>\n",
       "      <th>Thumbnail300KURL</th>\n",
       "      <th>Rotation</th>\n",
       "    </tr>\n",
       "  </thead>\n",
       "  <tbody>\n",
       "    <tr>\n",
       "      <th>56</th>\n",
       "      <td>cd329b922daa73bb</td>\n",
       "      <td>train</td>\n",
       "      <td>https://c4.staticflickr.com/6/5443/18231828633...</td>\n",
       "      <td>https://www.flickr.com/photos/nzcarfreak/18231...</td>\n",
       "      <td>https://creativecommons.org/licenses/by/2.0/</td>\n",
       "      <td>https://www.flickr.com/people/nzcarfreak/</td>\n",
       "      <td>Riley</td>\n",
       "      <td>Contrast...</td>\n",
       "      <td>1578003</td>\n",
       "      <td>SwdtLIiGTA8PPJ6TCSTjhA==</td>\n",
       "      <td>https://c6.staticflickr.com/6/5443/18231828633...</td>\n",
       "      <td>0.0</td>\n",
       "    </tr>\n",
       "    <tr>\n",
       "      <th>79</th>\n",
       "      <td>c9c0a72fe1816773</td>\n",
       "      <td>train</td>\n",
       "      <td>https://farm4.staticflickr.com/6067/6120245663...</td>\n",
       "      <td>https://www.flickr.com/photos/drivingthenorthe...</td>\n",
       "      <td>https://creativecommons.org/licenses/by/2.0/</td>\n",
       "      <td>https://www.flickr.com/people/drivingthenorthe...</td>\n",
       "      <td>DrivingtheNortheast</td>\n",
       "      <td>An old Buick police paddy wagon at the Joint B...</td>\n",
       "      <td>2897866</td>\n",
       "      <td>OdPn1Q7ZQYrn/Q1NrlgOpA==</td>\n",
       "      <td>https://c2.staticflickr.com/7/6067/6120245663_...</td>\n",
       "      <td>0.0</td>\n",
       "    </tr>\n",
       "    <tr>\n",
       "      <th>170</th>\n",
       "      <td>d3be59dfcca3d208</td>\n",
       "      <td>train</td>\n",
       "      <td>https://c1.staticflickr.com/4/3951/15729204092...</td>\n",
       "      <td>https://www.flickr.com/photos/bartosz/15729204092</td>\n",
       "      <td>https://creativecommons.org/licenses/by/2.0/</td>\n",
       "      <td>https://www.flickr.com/people/bartosz/</td>\n",
       "      <td>Bartosz Brzezinski</td>\n",
       "      <td>DSCF9378</td>\n",
       "      <td>1488662</td>\n",
       "      <td>h//N8QdHIOZ2LriUoEEDuA==</td>\n",
       "      <td>https://c2.staticflickr.com/4/3951/15729204092...</td>\n",
       "      <td>0.0</td>\n",
       "    </tr>\n",
       "    <tr>\n",
       "      <th>179</th>\n",
       "      <td>2f79b4556eb584ee</td>\n",
       "      <td>train</td>\n",
       "      <td>https://c7.staticflickr.com/9/8151/7501925902_...</td>\n",
       "      <td>https://www.flickr.com/photos/greggjerdingen/7...</td>\n",
       "      <td>https://creativecommons.org/licenses/by/2.0/</td>\n",
       "      <td>https://www.flickr.com/people/greggjerdingen/</td>\n",
       "      <td>Greg Gjerdingen</td>\n",
       "      <td>68 Mercury Park Lane Brougham</td>\n",
       "      <td>4325376</td>\n",
       "      <td>hy/BU/D7iD++Is8BpFwj7A==</td>\n",
       "      <td>https://c1.staticflickr.com/9/8151/7501925902_...</td>\n",
       "      <td>0.0</td>\n",
       "    </tr>\n",
       "    <tr>\n",
       "      <th>190</th>\n",
       "      <td>4d2886c115c83e1c</td>\n",
       "      <td>train</td>\n",
       "      <td>https://c5.staticflickr.com/4/3399/3517769845_...</td>\n",
       "      <td>https://www.flickr.com/photos/300tdorg/3517769...</td>\n",
       "      <td>https://creativecommons.org/licenses/by/2.0/</td>\n",
       "      <td>https://www.flickr.com/people/300tdorg/</td>\n",
       "      <td>Jurgen</td>\n",
       "      <td>Buscamping in Bassari Country (Senegal)</td>\n",
       "      <td>1757406</td>\n",
       "      <td>3HnsiTVrWjOtCgTWuncyYA==</td>\n",
       "      <td>https://c5.staticflickr.com/4/3399/3517769845_...</td>\n",
       "      <td>0.0</td>\n",
       "    </tr>\n",
       "  </tbody>\n",
       "</table>\n",
       "</div>"
      ],
      "text/plain": [
       "              ImageID Subset  \\\n",
       "56   cd329b922daa73bb  train   \n",
       "79   c9c0a72fe1816773  train   \n",
       "170  d3be59dfcca3d208  train   \n",
       "179  2f79b4556eb584ee  train   \n",
       "190  4d2886c115c83e1c  train   \n",
       "\n",
       "                                           OriginalURL  \\\n",
       "56   https://c4.staticflickr.com/6/5443/18231828633...   \n",
       "79   https://farm4.staticflickr.com/6067/6120245663...   \n",
       "170  https://c1.staticflickr.com/4/3951/15729204092...   \n",
       "179  https://c7.staticflickr.com/9/8151/7501925902_...   \n",
       "190  https://c5.staticflickr.com/4/3399/3517769845_...   \n",
       "\n",
       "                                    OriginalLandingURL  \\\n",
       "56   https://www.flickr.com/photos/nzcarfreak/18231...   \n",
       "79   https://www.flickr.com/photos/drivingthenorthe...   \n",
       "170  https://www.flickr.com/photos/bartosz/15729204092   \n",
       "179  https://www.flickr.com/photos/greggjerdingen/7...   \n",
       "190  https://www.flickr.com/photos/300tdorg/3517769...   \n",
       "\n",
       "                                          License  \\\n",
       "56   https://creativecommons.org/licenses/by/2.0/   \n",
       "79   https://creativecommons.org/licenses/by/2.0/   \n",
       "170  https://creativecommons.org/licenses/by/2.0/   \n",
       "179  https://creativecommons.org/licenses/by/2.0/   \n",
       "190  https://creativecommons.org/licenses/by/2.0/   \n",
       "\n",
       "                                      AuthorProfileURL               Author  \\\n",
       "56           https://www.flickr.com/people/nzcarfreak/                Riley   \n",
       "79   https://www.flickr.com/people/drivingthenorthe...  DrivingtheNortheast   \n",
       "170             https://www.flickr.com/people/bartosz/   Bartosz Brzezinski   \n",
       "179      https://www.flickr.com/people/greggjerdingen/      Greg Gjerdingen   \n",
       "190            https://www.flickr.com/people/300tdorg/               Jurgen   \n",
       "\n",
       "                                                 Title  OriginalSize  \\\n",
       "56                                         Contrast...       1578003   \n",
       "79   An old Buick police paddy wagon at the Joint B...       2897866   \n",
       "170                                           DSCF9378       1488662   \n",
       "179                      68 Mercury Park Lane Brougham       4325376   \n",
       "190            Buscamping in Bassari Country (Senegal)       1757406   \n",
       "\n",
       "                  OriginalMD5  \\\n",
       "56   SwdtLIiGTA8PPJ6TCSTjhA==   \n",
       "79   OdPn1Q7ZQYrn/Q1NrlgOpA==   \n",
       "170  h//N8QdHIOZ2LriUoEEDuA==   \n",
       "179  hy/BU/D7iD++Is8BpFwj7A==   \n",
       "190  3HnsiTVrWjOtCgTWuncyYA==   \n",
       "\n",
       "                                      Thumbnail300KURL  Rotation  \n",
       "56   https://c6.staticflickr.com/6/5443/18231828633...       0.0  \n",
       "79   https://c2.staticflickr.com/7/6067/6120245663_...       0.0  \n",
       "170  https://c2.staticflickr.com/4/3951/15729204092...       0.0  \n",
       "179  https://c1.staticflickr.com/9/8151/7501925902_...       0.0  \n",
       "190  https://c5.staticflickr.com/4/3399/3517769845_...       0.0  "
      ]
     },
     "execution_count": 18,
     "metadata": {},
     "output_type": "execute_result"
    }
   ],
   "source": [
    "df_image.head()"
   ]
  },
  {
   "cell_type": "code",
   "execution_count": 19,
   "metadata": {},
   "outputs": [],
   "source": [
    "df_all_data = df_image.merge(df_boxes, left_on = 'ImageID', right_on = 'ImageID',how = 'left')"
   ]
  },
  {
   "cell_type": "code",
   "execution_count": 20,
   "metadata": {},
   "outputs": [],
   "source": [
    "df_all_data = df_all_data.merge(df_class, left_on = 'LabelName', right_on = 'LabelName', how = 'left')"
   ]
  },
  {
   "cell_type": "code",
   "execution_count": 21,
   "metadata": {},
   "outputs": [
    {
     "data": {
      "text/plain": [
       "(248075, 33)"
      ]
     },
     "execution_count": 21,
     "metadata": {},
     "output_type": "execute_result"
    }
   ],
   "source": [
    "df_all_data.shape"
   ]
  },
  {
   "cell_type": "code",
   "execution_count": 22,
   "metadata": {},
   "outputs": [
    {
     "data": {
      "text/html": [
       "<div>\n",
       "<style scoped>\n",
       "    .dataframe tbody tr th:only-of-type {\n",
       "        vertical-align: middle;\n",
       "    }\n",
       "\n",
       "    .dataframe tbody tr th {\n",
       "        vertical-align: top;\n",
       "    }\n",
       "\n",
       "    .dataframe thead th {\n",
       "        text-align: right;\n",
       "    }\n",
       "</style>\n",
       "<table border=\"1\" class=\"dataframe\">\n",
       "  <thead>\n",
       "    <tr style=\"text-align: right;\">\n",
       "      <th></th>\n",
       "      <th>ImageID</th>\n",
       "      <th>Subset</th>\n",
       "      <th>OriginalURL</th>\n",
       "      <th>OriginalLandingURL</th>\n",
       "      <th>License</th>\n",
       "      <th>AuthorProfileURL</th>\n",
       "      <th>Author</th>\n",
       "      <th>Title</th>\n",
       "      <th>OriginalSize</th>\n",
       "      <th>OriginalMD5</th>\n",
       "      <th>...</th>\n",
       "      <th>IsInside</th>\n",
       "      <th>XClick1X</th>\n",
       "      <th>XClick2X</th>\n",
       "      <th>XClick3X</th>\n",
       "      <th>XClick4X</th>\n",
       "      <th>XClick1Y</th>\n",
       "      <th>XClick2Y</th>\n",
       "      <th>XClick3Y</th>\n",
       "      <th>XClick4Y</th>\n",
       "      <th>Label</th>\n",
       "    </tr>\n",
       "  </thead>\n",
       "  <tbody>\n",
       "    <tr>\n",
       "      <th>0</th>\n",
       "      <td>cd329b922daa73bb</td>\n",
       "      <td>train</td>\n",
       "      <td>https://c4.staticflickr.com/6/5443/18231828633...</td>\n",
       "      <td>https://www.flickr.com/photos/nzcarfreak/18231...</td>\n",
       "      <td>https://creativecommons.org/licenses/by/2.0/</td>\n",
       "      <td>https://www.flickr.com/people/nzcarfreak/</td>\n",
       "      <td>Riley</td>\n",
       "      <td>Contrast...</td>\n",
       "      <td>1578003</td>\n",
       "      <td>SwdtLIiGTA8PPJ6TCSTjhA==</td>\n",
       "      <td>...</td>\n",
       "      <td>0</td>\n",
       "      <td>0.000000</td>\n",
       "      <td>0.000000</td>\n",
       "      <td>0.187500</td>\n",
       "      <td>0.131875</td>\n",
       "      <td>0.578333</td>\n",
       "      <td>0.578333</td>\n",
       "      <td>0.7925</td>\n",
       "      <td>0.926667</td>\n",
       "      <td>Car</td>\n",
       "    </tr>\n",
       "    <tr>\n",
       "      <th>1</th>\n",
       "      <td>cd329b922daa73bb</td>\n",
       "      <td>train</td>\n",
       "      <td>https://c4.staticflickr.com/6/5443/18231828633...</td>\n",
       "      <td>https://www.flickr.com/photos/nzcarfreak/18231...</td>\n",
       "      <td>https://creativecommons.org/licenses/by/2.0/</td>\n",
       "      <td>https://www.flickr.com/people/nzcarfreak/</td>\n",
       "      <td>Riley</td>\n",
       "      <td>Contrast...</td>\n",
       "      <td>1578003</td>\n",
       "      <td>SwdtLIiGTA8PPJ6TCSTjhA==</td>\n",
       "      <td>...</td>\n",
       "      <td>0</td>\n",
       "      <td>0.071250</td>\n",
       "      <td>0.312500</td>\n",
       "      <td>0.623750</td>\n",
       "      <td>0.395625</td>\n",
       "      <td>0.668333</td>\n",
       "      <td>0.511667</td>\n",
       "      <td>0.7250</td>\n",
       "      <td>0.881667</td>\n",
       "      <td>Car</td>\n",
       "    </tr>\n",
       "    <tr>\n",
       "      <th>2</th>\n",
       "      <td>cd329b922daa73bb</td>\n",
       "      <td>train</td>\n",
       "      <td>https://c4.staticflickr.com/6/5443/18231828633...</td>\n",
       "      <td>https://www.flickr.com/photos/nzcarfreak/18231...</td>\n",
       "      <td>https://creativecommons.org/licenses/by/2.0/</td>\n",
       "      <td>https://www.flickr.com/people/nzcarfreak/</td>\n",
       "      <td>Riley</td>\n",
       "      <td>Contrast...</td>\n",
       "      <td>1578003</td>\n",
       "      <td>SwdtLIiGTA8PPJ6TCSTjhA==</td>\n",
       "      <td>...</td>\n",
       "      <td>0</td>\n",
       "      <td>0.471875</td>\n",
       "      <td>0.655000</td>\n",
       "      <td>0.979375</td>\n",
       "      <td>0.773750</td>\n",
       "      <td>0.561667</td>\n",
       "      <td>0.358333</td>\n",
       "      <td>0.6700</td>\n",
       "      <td>0.775000</td>\n",
       "      <td>Car</td>\n",
       "    </tr>\n",
       "    <tr>\n",
       "      <th>3</th>\n",
       "      <td>c9c0a72fe1816773</td>\n",
       "      <td>train</td>\n",
       "      <td>https://farm4.staticflickr.com/6067/6120245663...</td>\n",
       "      <td>https://www.flickr.com/photos/drivingthenorthe...</td>\n",
       "      <td>https://creativecommons.org/licenses/by/2.0/</td>\n",
       "      <td>https://www.flickr.com/people/drivingthenorthe...</td>\n",
       "      <td>DrivingtheNortheast</td>\n",
       "      <td>An old Buick police paddy wagon at the Joint B...</td>\n",
       "      <td>2897866</td>\n",
       "      <td>OdPn1Q7ZQYrn/Q1NrlgOpA==</td>\n",
       "      <td>...</td>\n",
       "      <td>0</td>\n",
       "      <td>-1.000000</td>\n",
       "      <td>-1.000000</td>\n",
       "      <td>-1.000000</td>\n",
       "      <td>-1.000000</td>\n",
       "      <td>-1.000000</td>\n",
       "      <td>-1.000000</td>\n",
       "      <td>-1.0000</td>\n",
       "      <td>-1.000000</td>\n",
       "      <td>Car</td>\n",
       "    </tr>\n",
       "    <tr>\n",
       "      <th>4</th>\n",
       "      <td>c9c0a72fe1816773</td>\n",
       "      <td>train</td>\n",
       "      <td>https://farm4.staticflickr.com/6067/6120245663...</td>\n",
       "      <td>https://www.flickr.com/photos/drivingthenorthe...</td>\n",
       "      <td>https://creativecommons.org/licenses/by/2.0/</td>\n",
       "      <td>https://www.flickr.com/people/drivingthenorthe...</td>\n",
       "      <td>DrivingtheNortheast</td>\n",
       "      <td>An old Buick police paddy wagon at the Joint B...</td>\n",
       "      <td>2897866</td>\n",
       "      <td>OdPn1Q7ZQYrn/Q1NrlgOpA==</td>\n",
       "      <td>...</td>\n",
       "      <td>0</td>\n",
       "      <td>0.336875</td>\n",
       "      <td>0.266875</td>\n",
       "      <td>0.335625</td>\n",
       "      <td>0.402500</td>\n",
       "      <td>0.458333</td>\n",
       "      <td>0.516667</td>\n",
       "      <td>0.5200</td>\n",
       "      <td>0.482500</td>\n",
       "      <td>Car</td>\n",
       "    </tr>\n",
       "  </tbody>\n",
       "</table>\n",
       "<p>5 rows × 33 columns</p>\n",
       "</div>"
      ],
      "text/plain": [
       "            ImageID Subset                                        OriginalURL  \\\n",
       "0  cd329b922daa73bb  train  https://c4.staticflickr.com/6/5443/18231828633...   \n",
       "1  cd329b922daa73bb  train  https://c4.staticflickr.com/6/5443/18231828633...   \n",
       "2  cd329b922daa73bb  train  https://c4.staticflickr.com/6/5443/18231828633...   \n",
       "3  c9c0a72fe1816773  train  https://farm4.staticflickr.com/6067/6120245663...   \n",
       "4  c9c0a72fe1816773  train  https://farm4.staticflickr.com/6067/6120245663...   \n",
       "\n",
       "                                  OriginalLandingURL  \\\n",
       "0  https://www.flickr.com/photos/nzcarfreak/18231...   \n",
       "1  https://www.flickr.com/photos/nzcarfreak/18231...   \n",
       "2  https://www.flickr.com/photos/nzcarfreak/18231...   \n",
       "3  https://www.flickr.com/photos/drivingthenorthe...   \n",
       "4  https://www.flickr.com/photos/drivingthenorthe...   \n",
       "\n",
       "                                        License  \\\n",
       "0  https://creativecommons.org/licenses/by/2.0/   \n",
       "1  https://creativecommons.org/licenses/by/2.0/   \n",
       "2  https://creativecommons.org/licenses/by/2.0/   \n",
       "3  https://creativecommons.org/licenses/by/2.0/   \n",
       "4  https://creativecommons.org/licenses/by/2.0/   \n",
       "\n",
       "                                    AuthorProfileURL               Author  \\\n",
       "0          https://www.flickr.com/people/nzcarfreak/                Riley   \n",
       "1          https://www.flickr.com/people/nzcarfreak/                Riley   \n",
       "2          https://www.flickr.com/people/nzcarfreak/                Riley   \n",
       "3  https://www.flickr.com/people/drivingthenorthe...  DrivingtheNortheast   \n",
       "4  https://www.flickr.com/people/drivingthenorthe...  DrivingtheNortheast   \n",
       "\n",
       "                                               Title  OriginalSize  \\\n",
       "0                                        Contrast...       1578003   \n",
       "1                                        Contrast...       1578003   \n",
       "2                                        Contrast...       1578003   \n",
       "3  An old Buick police paddy wagon at the Joint B...       2897866   \n",
       "4  An old Buick police paddy wagon at the Joint B...       2897866   \n",
       "\n",
       "                OriginalMD5  ... IsInside  XClick1X  XClick2X  XClick3X  \\\n",
       "0  SwdtLIiGTA8PPJ6TCSTjhA==  ...        0  0.000000  0.000000  0.187500   \n",
       "1  SwdtLIiGTA8PPJ6TCSTjhA==  ...        0  0.071250  0.312500  0.623750   \n",
       "2  SwdtLIiGTA8PPJ6TCSTjhA==  ...        0  0.471875  0.655000  0.979375   \n",
       "3  OdPn1Q7ZQYrn/Q1NrlgOpA==  ...        0 -1.000000 -1.000000 -1.000000   \n",
       "4  OdPn1Q7ZQYrn/Q1NrlgOpA==  ...        0  0.336875  0.266875  0.335625   \n",
       "\n",
       "   XClick4X  XClick1Y  XClick2Y  XClick3Y  XClick4Y  Label  \n",
       "0  0.131875  0.578333  0.578333    0.7925  0.926667    Car  \n",
       "1  0.395625  0.668333  0.511667    0.7250  0.881667    Car  \n",
       "2  0.773750  0.561667  0.358333    0.6700  0.775000    Car  \n",
       "3 -1.000000 -1.000000 -1.000000   -1.0000 -1.000000    Car  \n",
       "4  0.402500  0.458333  0.516667    0.5200  0.482500    Car  \n",
       "\n",
       "[5 rows x 33 columns]"
      ]
     },
     "execution_count": 22,
     "metadata": {},
     "output_type": "execute_result"
    }
   ],
   "source": [
    "df_all_data.head()"
   ]
  },
  {
   "cell_type": "code",
   "execution_count": 23,
   "metadata": {},
   "outputs": [
    {
     "data": {
      "text/plain": [
       "(248075, 33)"
      ]
     },
     "execution_count": 23,
     "metadata": {},
     "output_type": "execute_result"
    }
   ],
   "source": [
    "df_all_data.shape"
   ]
  },
  {
   "cell_type": "code",
   "execution_count": 24,
   "metadata": {},
   "outputs": [
    {
     "data": {
      "text/plain": [
       "Index(['ImageID', 'Subset', 'OriginalURL', 'OriginalLandingURL', 'License',\n",
       "       'AuthorProfileURL', 'Author', 'Title', 'OriginalSize', 'OriginalMD5',\n",
       "       'Thumbnail300KURL', 'Rotation', 'Source', 'LabelName', 'Confidence',\n",
       "       'XMin', 'XMax', 'YMin', 'YMax', 'IsOccluded', 'IsTruncated',\n",
       "       'IsGroupOf', 'IsDepiction', 'IsInside', 'XClick1X', 'XClick2X',\n",
       "       'XClick3X', 'XClick4X', 'XClick1Y', 'XClick2Y', 'XClick3Y', 'XClick4Y',\n",
       "       'Label'],\n",
       "      dtype='object')"
      ]
     },
     "execution_count": 24,
     "metadata": {},
     "output_type": "execute_result"
    }
   ],
   "source": [
    "df_all_data.columns"
   ]
  },
  {
   "cell_type": "code",
   "execution_count": 25,
   "metadata": {},
   "outputs": [],
   "source": [
    "df_all_data = df_all_data[['ImageID','OriginalURL','ImageID','XMin', 'XMax', 'YMin', 'YMax','Label','Confidence']]"
   ]
  },
  {
   "cell_type": "code",
   "execution_count": 26,
   "metadata": {},
   "outputs": [],
   "source": [
    "df_all_data.to_csv(f'{DATA_PATH}/df_all_data.csv',index = False)"
   ]
  },
  {
   "cell_type": "code",
   "execution_count": 27,
   "metadata": {},
   "outputs": [],
   "source": [
    "list_urls = df_all_data['OriginalURL'].unique()"
   ]
  },
  {
   "cell_type": "code",
   "execution_count": 28,
   "metadata": {},
   "outputs": [],
   "source": [
    "#crear el .tsv para poder descargar las imagenes"
   ]
  },
  {
   "cell_type": "code",
   "execution_count": 29,
   "metadata": {},
   "outputs": [],
   "source": [
    "#BytesIO(storage.blob.Blob(f'data/open-images-dataset-train{i[0]}.tsv',bucket).download_as_string())\n",
    "\n",
    "df_tsv = pd.concat([pd.read_csv(BytesIO(storage.blob.Blob(f'data/open-images-dataset-train{i}.tsv',bucket).download_as_string()), sep='\\t').reset_index() \n",
    "                    for i in range(0,10)])"
   ]
  },
  {
   "cell_type": "code",
   "execution_count": 30,
   "metadata": {},
   "outputs": [
    {
     "data": {
      "text/html": [
       "<div>\n",
       "<style scoped>\n",
       "    .dataframe tbody tr th:only-of-type {\n",
       "        vertical-align: middle;\n",
       "    }\n",
       "\n",
       "    .dataframe tbody tr th {\n",
       "        vertical-align: top;\n",
       "    }\n",
       "\n",
       "    .dataframe thead th {\n",
       "        text-align: right;\n",
       "    }\n",
       "</style>\n",
       "<table border=\"1\" class=\"dataframe\">\n",
       "  <thead>\n",
       "    <tr style=\"text-align: right;\">\n",
       "      <th></th>\n",
       "      <th>level_0</th>\n",
       "      <th>level_1</th>\n",
       "      <th>TsvHttpData-1.0</th>\n",
       "    </tr>\n",
       "  </thead>\n",
       "  <tbody>\n",
       "    <tr>\n",
       "      <th>0</th>\n",
       "      <td>https://c7.staticflickr.com/6/5499/10245691204...</td>\n",
       "      <td>141489</td>\n",
       "      <td>XKWUMkcNib71Ge6Yq1/0/g==</td>\n",
       "    </tr>\n",
       "    <tr>\n",
       "      <th>1</th>\n",
       "      <td>https://farm1.staticflickr.com/5615/1533586145...</td>\n",
       "      <td>7054258</td>\n",
       "      <td>CyvuYIfw90WAr8y0a1PaOw==</td>\n",
       "    </tr>\n",
       "    <tr>\n",
       "      <th>2</th>\n",
       "      <td>https://c7.staticflickr.com/8/7590/17048042861...</td>\n",
       "      <td>812483</td>\n",
       "      <td>cFlLPftwE0e7PznqGLwxKA==</td>\n",
       "    </tr>\n",
       "    <tr>\n",
       "      <th>3</th>\n",
       "      <td>https://farm5.staticflickr.com/5582/1823300949...</td>\n",
       "      <td>1282717</td>\n",
       "      <td>bIoO16vdUB8MpG+Wbe1bxw==</td>\n",
       "    </tr>\n",
       "    <tr>\n",
       "      <th>4</th>\n",
       "      <td>https://farm6.staticflickr.com/4126/5145819744...</td>\n",
       "      <td>3129329</td>\n",
       "      <td>nauUgLObUcXqCUxuVabxbw==</td>\n",
       "    </tr>\n",
       "  </tbody>\n",
       "</table>\n",
       "</div>"
      ],
      "text/plain": [
       "                                             level_0  level_1  \\\n",
       "0  https://c7.staticflickr.com/6/5499/10245691204...   141489   \n",
       "1  https://farm1.staticflickr.com/5615/1533586145...  7054258   \n",
       "2  https://c7.staticflickr.com/8/7590/17048042861...   812483   \n",
       "3  https://farm5.staticflickr.com/5582/1823300949...  1282717   \n",
       "4  https://farm6.staticflickr.com/4126/5145819744...  3129329   \n",
       "\n",
       "            TsvHttpData-1.0  \n",
       "0  XKWUMkcNib71Ge6Yq1/0/g==  \n",
       "1  CyvuYIfw90WAr8y0a1PaOw==  \n",
       "2  cFlLPftwE0e7PznqGLwxKA==  \n",
       "3  bIoO16vdUB8MpG+Wbe1bxw==  \n",
       "4  nauUgLObUcXqCUxuVabxbw==  "
      ]
     },
     "execution_count": 30,
     "metadata": {},
     "output_type": "execute_result"
    }
   ],
   "source": [
    "df_tsv.head()"
   ]
  },
  {
   "cell_type": "code",
   "execution_count": 31,
   "metadata": {},
   "outputs": [],
   "source": [
    "df_class_tsv = df_tsv[df_tsv['level_0'].isin(list_urls)]"
   ]
  },
  {
   "cell_type": "code",
   "execution_count": 32,
   "metadata": {},
   "outputs": [
    {
     "data": {
      "text/plain": [
       "(89465, 3)"
      ]
     },
     "execution_count": 32,
     "metadata": {},
     "output_type": "execute_result"
    }
   ],
   "source": [
    "df_class_tsv.shape"
   ]
  },
  {
   "cell_type": "markdown",
   "metadata": {},
   "source": [
    ".tsv file to upload to google cloud bucket"
   ]
  },
  {
   "cell_type": "code",
   "execution_count": 33,
   "metadata": {},
   "outputs": [],
   "source": [
    "df_class_tsv.to_csv(f'{DATA_PATH}/images_{classes}_tsv_file.tsv',sep='\\t',index = False)"
   ]
  },
  {
   "cell_type": "code",
   "execution_count": null,
   "metadata": {},
   "outputs": [],
   "source": []
  }
 ],
 "metadata": {
  "environment": {
   "name": "tf2-gpu.2-1.m46",
   "type": "gcloud",
   "uri": "gcr.io/deeplearning-platform-release/tf2-gpu.2-1:m46"
  },
  "kernelspec": {
   "display_name": "Python 3",
   "language": "python",
   "name": "python3"
  },
  "language_info": {
   "codemirror_mode": {
    "name": "ipython",
    "version": 3
   },
   "file_extension": ".py",
   "mimetype": "text/x-python",
   "name": "python",
   "nbconvert_exporter": "python",
   "pygments_lexer": "ipython3",
   "version": "3.7.6"
  }
 },
 "nbformat": 4,
 "nbformat_minor": 4
}
