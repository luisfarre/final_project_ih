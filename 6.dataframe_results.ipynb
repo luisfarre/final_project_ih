{
 "cells": [
  {
   "cell_type": "code",
   "execution_count": 1,
   "metadata": {},
   "outputs": [],
   "source": [
    "import pandas as pd\n",
    "import numpy as np"
   ]
  },
  {
   "cell_type": "code",
   "execution_count": 190,
   "metadata": {},
   "outputs": [
    {
     "name": "stdout",
     "output_type": "stream",
     "text": [
      "[['0009f04d5bced171.jpg', []], ['0068af751c04c281.jpg', [['Boat', '72%']]], ['005547ec8896223e.jpg', [['Train', '50%'], ['Boat', '80%'], ['Boat', '73%'], ['Boat', '52%'], ['Boat', '50%'], ['Boat', '49%'], ['Boat', '44%'], ['Boat', '36%'], ['Boat', '34%'], ['Boat', '33%'], ['Boat', '31%'], ['Boat', '21%']]], ['008a40758f53cef0.jpg', [['Boat', '74%'], ['Boat', '67%'], ['Boat', '48%']]], ['008e621e8edff730.jpg', [['Boat', '36%']]], ['005eacbd7488e94c.jpg', [['Boat', '96%']]], ['0026eab2f53bd687.jpg', [['Boat', '83%']]], ['004cf25099d40dc3.jpg', []], ['0079c70fc115d8db.jpg', [['Boat', '60%']]], ['002e3728932fc244.jpg', [['Boat', '92%']]]]\n"
     ]
    }
   ],
   "source": [
    "test_2 = []\n",
    "p=[]\n",
    "with open(\"result_log.txt\", 'r') as f:\n",
    "    for i,line in enumerate(f):\n",
    "        x = line.replace(':','').strip().split()\n",
    "        #print(x)\n",
    "        if x[0]=='Enter':\n",
    "            test.append(p)\n",
    "            test_2.append(test)\n",
    "            test = []\n",
    "            p=[]\n",
    "            class_name  = x[3].split('/')[3]\n",
    "            #print(class_name)\n",
    "            test.append(class_name)\n",
    "        else:\n",
    "            p.append(x)\n",
    "print(test_2) "
   ]
  },
  {
   "cell_type": "code",
   "execution_count": 236,
   "metadata": {},
   "outputs": [],
   "source": [
    "df = pd.DataFrame(test_2,columns = ['ImageId','objects']) "
   ]
  },
  {
   "cell_type": "code",
   "execution_count": 241,
   "metadata": {},
   "outputs": [],
   "source": [
    "dict_2 = {}\n",
    "for d in df['ImageId']:\n",
    "    for i in df['objects'][df['ImageId']==d]:\n",
    "        y = pd.DataFrame(i,columns=['class','percent'])\n",
    "        p = y.groupby('class')['percent'].apply(lambda g: g.tolist()).to_dict()\n",
    "    dict_2[d]=p"
   ]
  },
  {
   "cell_type": "code",
   "execution_count": 242,
   "metadata": {},
   "outputs": [
    {
     "data": {
      "text/plain": [
       "{'0009f04d5bced171.jpg': {},\n",
       " '0068af751c04c281.jpg': {'Boat': ['72%']},\n",
       " '005547ec8896223e.jpg': {'Boat': ['80%',\n",
       "   '73%',\n",
       "   '52%',\n",
       "   '50%',\n",
       "   '49%',\n",
       "   '44%',\n",
       "   '36%',\n",
       "   '34%',\n",
       "   '33%',\n",
       "   '31%',\n",
       "   '21%'],\n",
       "  'Train': ['50%']},\n",
       " '008a40758f53cef0.jpg': {'Boat': ['74%', '67%', '48%']},\n",
       " '008e621e8edff730.jpg': {'Boat': ['36%']},\n",
       " '005eacbd7488e94c.jpg': {'Boat': ['96%']},\n",
       " '0026eab2f53bd687.jpg': {'Boat': ['83%']},\n",
       " '004cf25099d40dc3.jpg': {},\n",
       " '0079c70fc115d8db.jpg': {'Boat': ['60%']},\n",
       " '002e3728932fc244.jpg': {'Boat': ['92%']}}"
      ]
     },
     "execution_count": 242,
     "metadata": {},
     "output_type": "execute_result"
    }
   ],
   "source": [
    "dict_2"
   ]
  },
  {
   "cell_type": "code",
   "execution_count": 238,
   "metadata": {},
   "outputs": [],
   "source": [
    "import json\n",
    "r = json.dumps(dict_2,ensure_ascii=False)"
   ]
  },
  {
   "cell_type": "code",
   "execution_count": 247,
   "metadata": {},
   "outputs": [],
   "source": [
    "with open('results_classified.json', 'w') as json_file:\n",
    "    json.dump(dict_2,json_file)"
   ]
  },
  {
   "cell_type": "code",
   "execution_count": 254,
   "metadata": {},
   "outputs": [],
   "source": [
    "solution = pd.read_json('results_classified.json').T.reset_index()"
   ]
  },
  {
   "cell_type": "code",
   "execution_count": 255,
   "metadata": {},
   "outputs": [
    {
     "data": {
      "text/html": [
       "<div>\n",
       "<style scoped>\n",
       "    .dataframe tbody tr th:only-of-type {\n",
       "        vertical-align: middle;\n",
       "    }\n",
       "\n",
       "    .dataframe tbody tr th {\n",
       "        vertical-align: top;\n",
       "    }\n",
       "\n",
       "    .dataframe thead th {\n",
       "        text-align: right;\n",
       "    }\n",
       "</style>\n",
       "<table border=\"1\" class=\"dataframe\">\n",
       "  <thead>\n",
       "    <tr style=\"text-align: right;\">\n",
       "      <th></th>\n",
       "      <th>ImageId</th>\n",
       "      <th>Boat</th>\n",
       "      <th>Train</th>\n",
       "    </tr>\n",
       "  </thead>\n",
       "  <tbody>\n",
       "    <tr>\n",
       "      <th>0</th>\n",
       "      <td>0009f04d5bced171.jpg</td>\n",
       "      <td>NaN</td>\n",
       "      <td>NaN</td>\n",
       "    </tr>\n",
       "    <tr>\n",
       "      <th>1</th>\n",
       "      <td>0068af751c04c281.jpg</td>\n",
       "      <td>[72%]</td>\n",
       "      <td>NaN</td>\n",
       "    </tr>\n",
       "    <tr>\n",
       "      <th>2</th>\n",
       "      <td>005547ec8896223e.jpg</td>\n",
       "      <td>[80%, 73%, 52%, 50%, 49%, 44%, 36%, 34%, 33%, ...</td>\n",
       "      <td>[50%]</td>\n",
       "    </tr>\n",
       "    <tr>\n",
       "      <th>3</th>\n",
       "      <td>008a40758f53cef0.jpg</td>\n",
       "      <td>[74%, 67%, 48%]</td>\n",
       "      <td>NaN</td>\n",
       "    </tr>\n",
       "    <tr>\n",
       "      <th>4</th>\n",
       "      <td>008e621e8edff730.jpg</td>\n",
       "      <td>[36%]</td>\n",
       "      <td>NaN</td>\n",
       "    </tr>\n",
       "    <tr>\n",
       "      <th>5</th>\n",
       "      <td>005eacbd7488e94c.jpg</td>\n",
       "      <td>[96%]</td>\n",
       "      <td>NaN</td>\n",
       "    </tr>\n",
       "    <tr>\n",
       "      <th>6</th>\n",
       "      <td>0026eab2f53bd687.jpg</td>\n",
       "      <td>[83%]</td>\n",
       "      <td>NaN</td>\n",
       "    </tr>\n",
       "    <tr>\n",
       "      <th>7</th>\n",
       "      <td>004cf25099d40dc3.jpg</td>\n",
       "      <td>NaN</td>\n",
       "      <td>NaN</td>\n",
       "    </tr>\n",
       "    <tr>\n",
       "      <th>8</th>\n",
       "      <td>0079c70fc115d8db.jpg</td>\n",
       "      <td>[60%]</td>\n",
       "      <td>NaN</td>\n",
       "    </tr>\n",
       "    <tr>\n",
       "      <th>9</th>\n",
       "      <td>002e3728932fc244.jpg</td>\n",
       "      <td>[92%]</td>\n",
       "      <td>NaN</td>\n",
       "    </tr>\n",
       "  </tbody>\n",
       "</table>\n",
       "</div>"
      ],
      "text/plain": [
       "                ImageId                                               Boat  \\\n",
       "0  0009f04d5bced171.jpg                                                NaN   \n",
       "1  0068af751c04c281.jpg                                              [72%]   \n",
       "2  005547ec8896223e.jpg  [80%, 73%, 52%, 50%, 49%, 44%, 36%, 34%, 33%, ...   \n",
       "3  008a40758f53cef0.jpg                                    [74%, 67%, 48%]   \n",
       "4  008e621e8edff730.jpg                                              [36%]   \n",
       "5  005eacbd7488e94c.jpg                                              [96%]   \n",
       "6  0026eab2f53bd687.jpg                                              [83%]   \n",
       "7  004cf25099d40dc3.jpg                                                NaN   \n",
       "8  0079c70fc115d8db.jpg                                              [60%]   \n",
       "9  002e3728932fc244.jpg                                              [92%]   \n",
       "\n",
       "   Train  \n",
       "0    NaN  \n",
       "1    NaN  \n",
       "2  [50%]  \n",
       "3    NaN  \n",
       "4    NaN  \n",
       "5    NaN  \n",
       "6    NaN  \n",
       "7    NaN  \n",
       "8    NaN  \n",
       "9    NaN  "
      ]
     },
     "execution_count": 255,
     "metadata": {},
     "output_type": "execute_result"
    }
   ],
   "source": [
    "solution.rename(columns ={'index':'ImageId'})"
   ]
  },
  {
   "cell_type": "code",
   "execution_count": null,
   "metadata": {},
   "outputs": [],
   "source": []
  }
 ],
 "metadata": {
  "environment": {
   "name": "tf2-gpu.2-1.m46",
   "type": "gcloud",
   "uri": "gcr.io/deeplearning-platform-release/tf2-gpu.2-1:m46"
  },
  "kernelspec": {
   "display_name": "Python 3",
   "language": "python",
   "name": "python3"
  },
  "language_info": {
   "codemirror_mode": {
    "name": "ipython",
    "version": 3
   },
   "file_extension": ".py",
   "mimetype": "text/x-python",
   "name": "python",
   "nbconvert_exporter": "python",
   "pygments_lexer": "ipython3",
   "version": "3.7.6"
  }
 },
 "nbformat": 4,
 "nbformat_minor": 4
}
