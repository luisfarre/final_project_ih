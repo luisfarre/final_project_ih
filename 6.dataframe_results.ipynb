{
 "cells": [
  {
   "cell_type": "code",
   "execution_count": 66,
   "metadata": {},
   "outputs": [],
   "source": [
    "import pandas as pd\n",
    "import numpy as np\n",
    "import json"
   ]
  },
  {
   "cell_type": "code",
   "execution_count": 67,
   "metadata": {},
   "outputs": [],
   "source": [
    "test_2 = []\n",
    "p=[]\n",
    "test = []\n",
    "with open(\"result_log.txt\", 'r') as f:\n",
    "    for i,line in enumerate(f):\n",
    "        x = line.replace(':','').strip().split()\n",
    "\n",
    "        if x[0]=='Enter':\n",
    "            test.append(p)\n",
    "            test_2.append(test)\n",
    "            test = []\n",
    "            p=[]\n",
    "            class_name  = x[3].split('/')[3]\n",
    "\n",
    "            test.append(class_name)\n",
    "        else:\n",
    "            p.append(x)"
   ]
  },
  {
   "cell_type": "code",
   "execution_count": 68,
   "metadata": {},
   "outputs": [],
   "source": [
    "df = pd.DataFrame(test_2,columns = ['ImageId','objects'])"
   ]
  },
  {
   "cell_type": "code",
   "execution_count": 69,
   "metadata": {},
   "outputs": [],
   "source": [
    "df = df[1:]"
   ]
  },
  {
   "cell_type": "code",
   "execution_count": 70,
   "metadata": {},
   "outputs": [],
   "source": [
    "dict_2 = {}\n",
    "for d in df['ImageId']:\n",
    "    for i in df['objects'][df['ImageId']==d]:\n",
    "        y = pd.DataFrame(i,columns=['class','percent'])\n",
    "        p = y.groupby('class')['percent'].apply(lambda g: g.tolist()).to_dict()\n",
    "    dict_2[d]=p"
   ]
  },
  {
   "cell_type": "code",
   "execution_count": 71,
   "metadata": {},
   "outputs": [],
   "source": [
    "r = json.dumps(dict_2,ensure_ascii=False)"
   ]
  },
  {
   "cell_type": "code",
   "execution_count": 72,
   "metadata": {},
   "outputs": [],
   "source": [
    "with open('results_classified.json', 'w') as json_file:\n",
    "    json.dump(dict_2,json_file)"
   ]
  },
  {
   "cell_type": "code",
   "execution_count": 73,
   "metadata": {},
   "outputs": [],
   "source": [
    "solution = pd.read_json('results_classified.json').T.reset_index()"
   ]
  },
  {
   "cell_type": "code",
   "execution_count": 74,
   "metadata": {},
   "outputs": [],
   "source": [
    "solution = solution.rename(columns ={'index':'ImageId'}).fillna('')"
   ]
  },
  {
   "cell_type": "code",
   "execution_count": 75,
   "metadata": {},
   "outputs": [],
   "source": [
    "solution.to_csv('dataframe_result.csv', index = False)"
   ]
  },
  {
   "cell_type": "code",
   "execution_count": 76,
   "metadata": {},
   "outputs": [
    {
     "data": {
      "text/html": [
       "<div>\n",
       "<style scoped>\n",
       "    .dataframe tbody tr th:only-of-type {\n",
       "        vertical-align: middle;\n",
       "    }\n",
       "\n",
       "    .dataframe tbody tr th {\n",
       "        vertical-align: top;\n",
       "    }\n",
       "\n",
       "    .dataframe thead th {\n",
       "        text-align: right;\n",
       "    }\n",
       "</style>\n",
       "<table border=\"1\" class=\"dataframe\">\n",
       "  <thead>\n",
       "    <tr style=\"text-align: right;\">\n",
       "      <th></th>\n",
       "      <th>ImageId</th>\n",
       "      <th>Boat</th>\n",
       "      <th>Train</th>\n",
       "      <th>Tree</th>\n",
       "      <th>Plane</th>\n",
       "    </tr>\n",
       "  </thead>\n",
       "  <tbody>\n",
       "    <tr>\n",
       "      <th>0</th>\n",
       "      <td>0068af751c04c281.jpg</td>\n",
       "      <td>[72%]</td>\n",
       "      <td></td>\n",
       "      <td></td>\n",
       "      <td></td>\n",
       "    </tr>\n",
       "    <tr>\n",
       "      <th>1</th>\n",
       "      <td>005547ec8896223e.jpg</td>\n",
       "      <td>[50%, 80%, 73%, 52%, 50%]</td>\n",
       "      <td>[25%]</td>\n",
       "      <td>[37%]</td>\n",
       "      <td></td>\n",
       "    </tr>\n",
       "    <tr>\n",
       "      <th>2</th>\n",
       "      <td>008a40758f53cef0.jpg</td>\n",
       "      <td>[74%, 67%, 48%]</td>\n",
       "      <td></td>\n",
       "      <td></td>\n",
       "      <td>[54%]</td>\n",
       "    </tr>\n",
       "    <tr>\n",
       "      <th>3</th>\n",
       "      <td>008e621e8edff730.jpg</td>\n",
       "      <td>[36%]</td>\n",
       "      <td></td>\n",
       "      <td></td>\n",
       "      <td></td>\n",
       "    </tr>\n",
       "    <tr>\n",
       "      <th>4</th>\n",
       "      <td>005eacbd7488e94c.jpg</td>\n",
       "      <td>[96%]</td>\n",
       "      <td></td>\n",
       "      <td></td>\n",
       "      <td>[45%]</td>\n",
       "    </tr>\n",
       "    <tr>\n",
       "      <th>5</th>\n",
       "      <td>0026eab2f53bd687.jpg</td>\n",
       "      <td>[83%]</td>\n",
       "      <td></td>\n",
       "      <td>[38%]</td>\n",
       "      <td></td>\n",
       "    </tr>\n",
       "    <tr>\n",
       "      <th>6</th>\n",
       "      <td>004cf25099d40dc3.jpg</td>\n",
       "      <td></td>\n",
       "      <td></td>\n",
       "      <td></td>\n",
       "      <td></td>\n",
       "    </tr>\n",
       "    <tr>\n",
       "      <th>7</th>\n",
       "      <td>0079c70fc115d8db.jpg</td>\n",
       "      <td>[60%]</td>\n",
       "      <td></td>\n",
       "      <td></td>\n",
       "      <td></td>\n",
       "    </tr>\n",
       "    <tr>\n",
       "      <th>8</th>\n",
       "      <td>002e3728932fc244.jpg</td>\n",
       "      <td>[92%]</td>\n",
       "      <td></td>\n",
       "      <td></td>\n",
       "      <td></td>\n",
       "    </tr>\n",
       "  </tbody>\n",
       "</table>\n",
       "</div>"
      ],
      "text/plain": [
       "                ImageId                       Boat  Train   Tree  Plane\n",
       "0  0068af751c04c281.jpg                      [72%]                     \n",
       "1  005547ec8896223e.jpg  [50%, 80%, 73%, 52%, 50%]  [25%]  [37%]       \n",
       "2  008a40758f53cef0.jpg            [74%, 67%, 48%]                [54%]\n",
       "3  008e621e8edff730.jpg                      [36%]                     \n",
       "4  005eacbd7488e94c.jpg                      [96%]                [45%]\n",
       "5  0026eab2f53bd687.jpg                      [83%]         [38%]       \n",
       "6  004cf25099d40dc3.jpg                                                \n",
       "7  0079c70fc115d8db.jpg                      [60%]                     \n",
       "8  002e3728932fc244.jpg                      [92%]                     "
      ]
     },
     "execution_count": 76,
     "metadata": {},
     "output_type": "execute_result"
    }
   ],
   "source": [
    "solution"
   ]
  }
 ],
 "metadata": {
  "environment": {
   "name": "tf2-gpu.2-1.m46",
   "type": "gcloud",
   "uri": "gcr.io/deeplearning-platform-release/tf2-gpu.2-1:m46"
  },
  "kernelspec": {
   "display_name": "Python 3",
   "language": "python",
   "name": "python3"
  },
  "language_info": {
   "codemirror_mode": {
    "name": "ipython",
    "version": 3
   },
   "file_extension": ".py",
   "mimetype": "text/x-python",
   "name": "python",
   "nbconvert_exporter": "python",
   "pygments_lexer": "ipython3",
   "version": "3.7.6"
  }
 },
 "nbformat": 4,
 "nbformat_minor": 4
}
