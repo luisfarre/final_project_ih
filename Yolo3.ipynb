{
 "cells": [
  {
   "cell_type": "code",
   "execution_count": 9,
   "metadata": {},
   "outputs": [],
   "source": [
    "import os\n",
    "import numpy as np\n",
    "import pandas as pd\n",
    "import matplotlib.pyplot as plt\n",
    "import seaborn as sns\n",
    "import cv2\n",
    "from sklearn.model_selection import train_test_split\n",
    "from tqdm import tqdm\n",
    "from google.cloud import storage\n",
    "from io import BytesIO"
   ]
  },
  {
   "cell_type": "code",
   "execution_count": 10,
   "metadata": {},
   "outputs": [],
   "source": [
    "random_stat = 123\n",
    "\n",
    "storage_client = storage.Client(project = 'ih-final-project-277919')\n",
    "\n",
    "bucket = storage_client.get_bucket(\"data_images_ih\")\n",
    "\n",
    "SIZE = 416 #p1\n",
    "#SIZE = 608 #open images\n"
   ]
  },
  {
   "cell_type": "code",
   "execution_count": 52,
   "metadata": {},
   "outputs": [
    {
     "name": "stdout",
     "output_type": "stream",
     "text": [
      "Cloning into 'darknet'...\n",
      "remote: Enumerating objects: 5904, done.\u001b[K\n",
      "remote: Total 5904 (delta 0), reused 0 (delta 0), pack-reused 5904\u001b[K\n",
      "Receiving objects: 100% (5904/5904), 6.33 MiB | 0 bytes/s, done.\n",
      "Resolving deltas: 100% (3925/3925), done.\n",
      "\u001b[01m\u001b[K./src/gemm.c:\u001b[m\u001b[K In function ‘\u001b[01m\u001b[Ktime_gpu\u001b[m\u001b[K’:\n",
      "\u001b[01m\u001b[K./src/gemm.c:232:9:\u001b[m\u001b[K \u001b[01;35m\u001b[Kwarning: \u001b[m\u001b[K‘\u001b[01m\u001b[KcudaThreadSynchronize\u001b[m\u001b[K’ is deprecated [\u001b[01;35m\u001b[K-Wdeprecated-declarations\u001b[m\u001b[K]\n",
      "         \u001b[01;35m\u001b[KcudaThreadSynchronize\u001b[m\u001b[K();\n",
      "         \u001b[01;35m\u001b[K^~~~~~~~~~~~~~~~~~~~~\u001b[m\u001b[K\n",
      "In file included from \u001b[01m\u001b[K/usr/local/cuda/include/cuda_runtime.h:96:0\u001b[m\u001b[K,\n",
      "                 from \u001b[01m\u001b[Kinclude/darknet.h:11\u001b[m\u001b[K,\n",
      "                 from \u001b[01m\u001b[K./src/utils.h:5\u001b[m\u001b[K,\n",
      "                 from \u001b[01m\u001b[K./src/gemm.c:2\u001b[m\u001b[K:\n",
      "\u001b[01m\u001b[K/usr/local/cuda/include/cuda_runtime_api.h:957:57:\u001b[m\u001b[K \u001b[01;36m\u001b[Knote: \u001b[m\u001b[Kdeclared here\n",
      " extern __CUDA_DEPRECATED __host__ cudaError_t CUDARTAPI \u001b[01;36m\u001b[KcudaThreadSynchronize\u001b[m\u001b[K(void);\n",
      "                                                         \u001b[01;36m\u001b[K^~~~~~~~~~~~~~~~~~~~~\u001b[m\u001b[K\n"
     ]
    }
   ],
   "source": [
    "!git clone https://github.com/pjreddie/darknet.git\n",
    "\n",
    "# Build gpu version darknet\n",
    "!cd darknet && sed '1 s/^.*$/GPU=1/; 2 s/^.*$/CUDNN=1/' -i Makefile\n",
    "\n",
    "# -j <The # of cpu cores to use>. Chang 999 to fit your environment. Actually i used '-j 50'.\n",
    "!cd darknet && make -j 999 -s\n",
    "!cp darknet/darknet darknet_gpu"
   ]
  },
  {
   "cell_type": "code",
   "execution_count": 11,
   "metadata": {},
   "outputs": [],
   "source": [
    "DATA_PATH = '/home/jupyter/data/'\n",
    "\n",
    "#TRAIN_PATH = os.path.join(DATA_PATH, \"train_images\")\n",
    "#TEST_PATH = os.path.join(DATA_PATH, \"test_images\")\n",
    "\n",
    "FRAME_PATH = os.path.join(os.getcwd(), 'images')  # .jpg\n",
    "MASK_PATH = os.path.join(os.getcwd(), 'labels')  # .txt\n",
    "METADATA_PATH = os.path.join(os.getcwd(), 'metadata') # .txt\n",
    "\n",
    "# YOLOv3 config file directory\n",
    "CONFIG_PATH = os.path.join(os.getcwd(), 'cfg')\n",
    "# YOLOv3 training checkpoints will be saved here\n",
    "BACKUP_PATH = os.path.join(os.getcwd(), 'backup')\n",
    "\n",
    "for directory in [FRAME_PATH, MASK_PATH, METADATA_PATH, CONFIG_PATH, BACKUP_PATH ]:\n",
    "    if os.path.isdir(directory):\n",
    "        continue\n",
    "    os.mkdir(directory)"
   ]
  },
  {
   "cell_type": "code",
   "execution_count": 12,
   "metadata": {},
   "outputs": [],
   "source": [
    "colnames=['LabelName','Label']\n",
    "df_class = pd.read_csv(f'{DATA_PATH}/class-descriptions-boxable.csv',names=colnames, header=None)"
   ]
  },
  {
   "cell_type": "code",
   "execution_count": 13,
   "metadata": {},
   "outputs": [
    {
     "data": {
      "text/html": [
       "<div>\n",
       "<style scoped>\n",
       "    .dataframe tbody tr th:only-of-type {\n",
       "        vertical-align: middle;\n",
       "    }\n",
       "\n",
       "    .dataframe tbody tr th {\n",
       "        vertical-align: top;\n",
       "    }\n",
       "\n",
       "    .dataframe thead th {\n",
       "        text-align: right;\n",
       "    }\n",
       "</style>\n",
       "<table border=\"1\" class=\"dataframe\">\n",
       "  <thead>\n",
       "    <tr style=\"text-align: right;\">\n",
       "      <th></th>\n",
       "      <th>LabelName</th>\n",
       "      <th>Label</th>\n",
       "    </tr>\n",
       "  </thead>\n",
       "  <tbody>\n",
       "    <tr>\n",
       "      <th>0</th>\n",
       "      <td>/m/011k07</td>\n",
       "      <td>Tortoise</td>\n",
       "    </tr>\n",
       "    <tr>\n",
       "      <th>1</th>\n",
       "      <td>/m/011q46kg</td>\n",
       "      <td>Container</td>\n",
       "    </tr>\n",
       "    <tr>\n",
       "      <th>2</th>\n",
       "      <td>/m/012074</td>\n",
       "      <td>Magpie</td>\n",
       "    </tr>\n",
       "    <tr>\n",
       "      <th>3</th>\n",
       "      <td>/m/0120dh</td>\n",
       "      <td>Sea turtle</td>\n",
       "    </tr>\n",
       "    <tr>\n",
       "      <th>4</th>\n",
       "      <td>/m/01226z</td>\n",
       "      <td>Football</td>\n",
       "    </tr>\n",
       "  </tbody>\n",
       "</table>\n",
       "</div>"
      ],
      "text/plain": [
       "     LabelName       Label\n",
       "0    /m/011k07    Tortoise\n",
       "1  /m/011q46kg   Container\n",
       "2    /m/012074      Magpie\n",
       "3    /m/0120dh  Sea turtle\n",
       "4    /m/01226z    Football"
      ]
     },
     "execution_count": 13,
     "metadata": {},
     "output_type": "execute_result"
    }
   ],
   "source": [
    "df_class.head()"
   ]
  },
  {
   "cell_type": "code",
   "execution_count": 14,
   "metadata": {},
   "outputs": [
    {
     "data": {
      "text/html": [
       "<div>\n",
       "<style scoped>\n",
       "    .dataframe tbody tr th:only-of-type {\n",
       "        vertical-align: middle;\n",
       "    }\n",
       "\n",
       "    .dataframe tbody tr th {\n",
       "        vertical-align: top;\n",
       "    }\n",
       "\n",
       "    .dataframe thead th {\n",
       "        text-align: right;\n",
       "    }\n",
       "</style>\n",
       "<table border=\"1\" class=\"dataframe\">\n",
       "  <thead>\n",
       "    <tr style=\"text-align: right;\">\n",
       "      <th></th>\n",
       "      <th>ImageID</th>\n",
       "      <th>Subset</th>\n",
       "      <th>OriginalURL</th>\n",
       "      <th>OriginalLandingURL</th>\n",
       "      <th>License</th>\n",
       "      <th>AuthorProfileURL</th>\n",
       "      <th>Author</th>\n",
       "      <th>Title</th>\n",
       "      <th>OriginalSize</th>\n",
       "      <th>OriginalMD5</th>\n",
       "      <th>...</th>\n",
       "      <th>IsDepiction</th>\n",
       "      <th>IsInside</th>\n",
       "      <th>XClick1X</th>\n",
       "      <th>XClick2X</th>\n",
       "      <th>XClick3X</th>\n",
       "      <th>XClick4X</th>\n",
       "      <th>XClick1Y</th>\n",
       "      <th>XClick2Y</th>\n",
       "      <th>XClick3Y</th>\n",
       "      <th>XClick4Y</th>\n",
       "    </tr>\n",
       "  </thead>\n",
       "  <tbody>\n",
       "    <tr>\n",
       "      <th>0</th>\n",
       "      <td>25e3acb1a25707dd</td>\n",
       "      <td>train</td>\n",
       "      <td>https://c6.staticflickr.com/8/7659/17891339551...</td>\n",
       "      <td>https://www.flickr.com/photos/archiefalkmaar/1...</td>\n",
       "      <td>https://creativecommons.org/licenses/by/2.0/</td>\n",
       "      <td>https://www.flickr.com/people/archiefalkmaar/</td>\n",
       "      <td>Regionaal Archief Alkmaar</td>\n",
       "      <td>Vrijwilligersuitje 2015</td>\n",
       "      <td>2677536</td>\n",
       "      <td>FvIDdDhff45GCENbR2CXuQ==</td>\n",
       "      <td>...</td>\n",
       "      <td>0</td>\n",
       "      <td>0</td>\n",
       "      <td>0.715000</td>\n",
       "      <td>0.766875</td>\n",
       "      <td>0.999375</td>\n",
       "      <td>0.390625</td>\n",
       "      <td>0.438149</td>\n",
       "      <td>0.999056</td>\n",
       "      <td>0.885741</td>\n",
       "      <td>0.915958</td>\n",
       "    </tr>\n",
       "    <tr>\n",
       "      <th>1</th>\n",
       "      <td>9aaa4a4bce049a85</td>\n",
       "      <td>train</td>\n",
       "      <td>https://farm6.staticflickr.com/8164/7388947910...</td>\n",
       "      <td>https://www.flickr.com/photos/45131642@N00/738...</td>\n",
       "      <td>https://creativecommons.org/licenses/by/2.0/</td>\n",
       "      <td>https://www.flickr.com/people/45131642@N00/</td>\n",
       "      <td>Phil Parker</td>\n",
       "      <td>Decks and Boats in</td>\n",
       "      <td>28624</td>\n",
       "      <td>8Jqvyk2WuArDznavCtpBnA==</td>\n",
       "      <td>...</td>\n",
       "      <td>1</td>\n",
       "      <td>0</td>\n",
       "      <td>-1.000000</td>\n",
       "      <td>-1.000000</td>\n",
       "      <td>-1.000000</td>\n",
       "      <td>-1.000000</td>\n",
       "      <td>-1.000000</td>\n",
       "      <td>-1.000000</td>\n",
       "      <td>-1.000000</td>\n",
       "      <td>-1.000000</td>\n",
       "    </tr>\n",
       "    <tr>\n",
       "      <th>2</th>\n",
       "      <td>6db5e012cf2936fa</td>\n",
       "      <td>train</td>\n",
       "      <td>https://c3.staticflickr.com/3/2874/9062318686_...</td>\n",
       "      <td>https://www.flickr.com/photos/atgeist/9062318686</td>\n",
       "      <td>https://creativecommons.org/licenses/by/2.0/</td>\n",
       "      <td>https://www.flickr.com/people/atgeist/</td>\n",
       "      <td>TownePost Network</td>\n",
       "      <td>Cocktail Cove cuties get the party started</td>\n",
       "      <td>5036881</td>\n",
       "      <td>6Rn5G58CFybS6b1wUeTApg==</td>\n",
       "      <td>...</td>\n",
       "      <td>0</td>\n",
       "      <td>0</td>\n",
       "      <td>0.975000</td>\n",
       "      <td>0.999375</td>\n",
       "      <td>0.780625</td>\n",
       "      <td>0.037500</td>\n",
       "      <td>0.381341</td>\n",
       "      <td>0.456522</td>\n",
       "      <td>0.999094</td>\n",
       "      <td>0.999094</td>\n",
       "    </tr>\n",
       "    <tr>\n",
       "      <th>3</th>\n",
       "      <td>6db5e012cf2936fa</td>\n",
       "      <td>train</td>\n",
       "      <td>https://c3.staticflickr.com/3/2874/9062318686_...</td>\n",
       "      <td>https://www.flickr.com/photos/atgeist/9062318686</td>\n",
       "      <td>https://creativecommons.org/licenses/by/2.0/</td>\n",
       "      <td>https://www.flickr.com/people/atgeist/</td>\n",
       "      <td>TownePost Network</td>\n",
       "      <td>Cocktail Cove cuties get the party started</td>\n",
       "      <td>5036881</td>\n",
       "      <td>6Rn5G58CFybS6b1wUeTApg==</td>\n",
       "      <td>...</td>\n",
       "      <td>0</td>\n",
       "      <td>0</td>\n",
       "      <td>0.690000</td>\n",
       "      <td>0.231250</td>\n",
       "      <td>0.185000</td>\n",
       "      <td>0.700000</td>\n",
       "      <td>0.241848</td>\n",
       "      <td>0.395833</td>\n",
       "      <td>0.494565</td>\n",
       "      <td>0.259058</td>\n",
       "    </tr>\n",
       "    <tr>\n",
       "      <th>4</th>\n",
       "      <td>6db5e012cf2936fa</td>\n",
       "      <td>train</td>\n",
       "      <td>https://c3.staticflickr.com/3/2874/9062318686_...</td>\n",
       "      <td>https://www.flickr.com/photos/atgeist/9062318686</td>\n",
       "      <td>https://creativecommons.org/licenses/by/2.0/</td>\n",
       "      <td>https://www.flickr.com/people/atgeist/</td>\n",
       "      <td>TownePost Network</td>\n",
       "      <td>Cocktail Cove cuties get the party started</td>\n",
       "      <td>5036881</td>\n",
       "      <td>6Rn5G58CFybS6b1wUeTApg==</td>\n",
       "      <td>...</td>\n",
       "      <td>0</td>\n",
       "      <td>0</td>\n",
       "      <td>0.766875</td>\n",
       "      <td>0.265625</td>\n",
       "      <td>0.337500</td>\n",
       "      <td>0.778125</td>\n",
       "      <td>0.210145</td>\n",
       "      <td>0.455616</td>\n",
       "      <td>0.526268</td>\n",
       "      <td>0.368659</td>\n",
       "    </tr>\n",
       "  </tbody>\n",
       "</table>\n",
       "<p>5 rows × 32 columns</p>\n",
       "</div>"
      ],
      "text/plain": [
       "            ImageID Subset                                        OriginalURL  \\\n",
       "0  25e3acb1a25707dd  train  https://c6.staticflickr.com/8/7659/17891339551...   \n",
       "1  9aaa4a4bce049a85  train  https://farm6.staticflickr.com/8164/7388947910...   \n",
       "2  6db5e012cf2936fa  train  https://c3.staticflickr.com/3/2874/9062318686_...   \n",
       "3  6db5e012cf2936fa  train  https://c3.staticflickr.com/3/2874/9062318686_...   \n",
       "4  6db5e012cf2936fa  train  https://c3.staticflickr.com/3/2874/9062318686_...   \n",
       "\n",
       "                                  OriginalLandingURL  \\\n",
       "0  https://www.flickr.com/photos/archiefalkmaar/1...   \n",
       "1  https://www.flickr.com/photos/45131642@N00/738...   \n",
       "2   https://www.flickr.com/photos/atgeist/9062318686   \n",
       "3   https://www.flickr.com/photos/atgeist/9062318686   \n",
       "4   https://www.flickr.com/photos/atgeist/9062318686   \n",
       "\n",
       "                                        License  \\\n",
       "0  https://creativecommons.org/licenses/by/2.0/   \n",
       "1  https://creativecommons.org/licenses/by/2.0/   \n",
       "2  https://creativecommons.org/licenses/by/2.0/   \n",
       "3  https://creativecommons.org/licenses/by/2.0/   \n",
       "4  https://creativecommons.org/licenses/by/2.0/   \n",
       "\n",
       "                                AuthorProfileURL                     Author  \\\n",
       "0  https://www.flickr.com/people/archiefalkmaar/  Regionaal Archief Alkmaar   \n",
       "1    https://www.flickr.com/people/45131642@N00/                Phil Parker   \n",
       "2         https://www.flickr.com/people/atgeist/          TownePost Network   \n",
       "3         https://www.flickr.com/people/atgeist/          TownePost Network   \n",
       "4         https://www.flickr.com/people/atgeist/          TownePost Network   \n",
       "\n",
       "                                        Title  OriginalSize  \\\n",
       "0                     Vrijwilligersuitje 2015       2677536   \n",
       "1                          Decks and Boats in         28624   \n",
       "2  Cocktail Cove cuties get the party started       5036881   \n",
       "3  Cocktail Cove cuties get the party started       5036881   \n",
       "4  Cocktail Cove cuties get the party started       5036881   \n",
       "\n",
       "                OriginalMD5  ... IsDepiction  IsInside  XClick1X  XClick2X  \\\n",
       "0  FvIDdDhff45GCENbR2CXuQ==  ...           0         0  0.715000  0.766875   \n",
       "1  8Jqvyk2WuArDznavCtpBnA==  ...           1         0 -1.000000 -1.000000   \n",
       "2  6Rn5G58CFybS6b1wUeTApg==  ...           0         0  0.975000  0.999375   \n",
       "3  6Rn5G58CFybS6b1wUeTApg==  ...           0         0  0.690000  0.231250   \n",
       "4  6Rn5G58CFybS6b1wUeTApg==  ...           0         0  0.766875  0.265625   \n",
       "\n",
       "   XClick3X  XClick4X  XClick1Y  XClick2Y  XClick3Y  XClick4Y  \n",
       "0  0.999375  0.390625  0.438149  0.999056  0.885741  0.915958  \n",
       "1 -1.000000 -1.000000 -1.000000 -1.000000 -1.000000 -1.000000  \n",
       "2  0.780625  0.037500  0.381341  0.456522  0.999094  0.999094  \n",
       "3  0.185000  0.700000  0.241848  0.395833  0.494565  0.259058  \n",
       "4  0.337500  0.778125  0.210145  0.455616  0.526268  0.368659  \n",
       "\n",
       "[5 rows x 32 columns]"
      ]
     },
     "execution_count": 14,
     "metadata": {},
     "output_type": "execute_result"
    }
   ],
   "source": [
    "annots = pd.read_csv(f'{DATA_PATH}/df_all_data.csv')\n",
    "annots.head()"
   ]
  },
  {
   "cell_type": "code",
   "execution_count": 15,
   "metadata": {},
   "outputs": [
    {
     "data": {
      "text/plain": [
       "(79113, 32)"
      ]
     },
     "execution_count": 15,
     "metadata": {},
     "output_type": "execute_result"
    }
   ],
   "source": [
    "annots.shape"
   ]
  },
  {
   "cell_type": "code",
   "execution_count": 16,
   "metadata": {},
   "outputs": [],
   "source": [
    "annots = annots.merge(df_class, left_on = 'LabelName', right_on ='LabelName')"
   ]
  },
  {
   "cell_type": "code",
   "execution_count": 17,
   "metadata": {},
   "outputs": [],
   "source": [
    "annots.drop_duplicates(inplace=True)"
   ]
  },
  {
   "cell_type": "code",
   "execution_count": 18,
   "metadata": {},
   "outputs": [
    {
     "data": {
      "text/plain": [
       "(79113, 33)"
      ]
     },
     "execution_count": 18,
     "metadata": {},
     "output_type": "execute_result"
    }
   ],
   "source": [
    "annots.shape"
   ]
  },
  {
   "cell_type": "code",
   "execution_count": 19,
   "metadata": {},
   "outputs": [
    {
     "data": {
      "text/plain": [
       "Index(['ImageID', 'Subset', 'OriginalURL', 'OriginalLandingURL', 'License',\n",
       "       'AuthorProfileURL', 'Author', 'Title', 'OriginalSize', 'OriginalMD5',\n",
       "       'Thumbnail300KURL', 'Rotation', 'Source', 'LabelName', 'Confidence',\n",
       "       'XMin', 'XMax', 'YMin', 'YMax', 'IsOccluded', 'IsTruncated',\n",
       "       'IsGroupOf', 'IsDepiction', 'IsInside', 'XClick1X', 'XClick2X',\n",
       "       'XClick3X', 'XClick4X', 'XClick1Y', 'XClick2Y', 'XClick3Y', 'XClick4Y',\n",
       "       'Label'],\n",
       "      dtype='object')"
      ]
     },
     "execution_count": 19,
     "metadata": {},
     "output_type": "execute_result"
    }
   ],
   "source": [
    "annots.columns"
   ]
  },
  {
   "cell_type": "code",
   "execution_count": 20,
   "metadata": {},
   "outputs": [
    {
     "data": {
      "text/html": [
       "<div>\n",
       "<style scoped>\n",
       "    .dataframe tbody tr th:only-of-type {\n",
       "        vertical-align: middle;\n",
       "    }\n",
       "\n",
       "    .dataframe tbody tr th {\n",
       "        vertical-align: top;\n",
       "    }\n",
       "\n",
       "    .dataframe thead th {\n",
       "        text-align: right;\n",
       "    }\n",
       "</style>\n",
       "<table border=\"1\" class=\"dataframe\">\n",
       "  <thead>\n",
       "    <tr style=\"text-align: right;\">\n",
       "      <th></th>\n",
       "      <th>ImageID</th>\n",
       "      <th>XMin</th>\n",
       "      <th>XMax</th>\n",
       "      <th>YMin</th>\n",
       "      <th>YMax</th>\n",
       "      <th>Label</th>\n",
       "      <th>Confidence</th>\n",
       "    </tr>\n",
       "  </thead>\n",
       "  <tbody>\n",
       "    <tr>\n",
       "      <th>0</th>\n",
       "      <td>25e3acb1a25707dd</td>\n",
       "      <td>0.390625</td>\n",
       "      <td>0.999375</td>\n",
       "      <td>0.438149</td>\n",
       "      <td>0.999056</td>\n",
       "      <td>Boat</td>\n",
       "      <td>1</td>\n",
       "    </tr>\n",
       "    <tr>\n",
       "      <th>1</th>\n",
       "      <td>9aaa4a4bce049a85</td>\n",
       "      <td>0.015919</td>\n",
       "      <td>0.946454</td>\n",
       "      <td>0.096610</td>\n",
       "      <td>0.901695</td>\n",
       "      <td>Boat</td>\n",
       "      <td>1</td>\n",
       "    </tr>\n",
       "    <tr>\n",
       "      <th>2</th>\n",
       "      <td>6db5e012cf2936fa</td>\n",
       "      <td>0.037500</td>\n",
       "      <td>0.999375</td>\n",
       "      <td>0.381341</td>\n",
       "      <td>0.999094</td>\n",
       "      <td>Boat</td>\n",
       "      <td>1</td>\n",
       "    </tr>\n",
       "    <tr>\n",
       "      <th>3</th>\n",
       "      <td>6db5e012cf2936fa</td>\n",
       "      <td>0.185000</td>\n",
       "      <td>0.700000</td>\n",
       "      <td>0.241848</td>\n",
       "      <td>0.494565</td>\n",
       "      <td>Boat</td>\n",
       "      <td>1</td>\n",
       "    </tr>\n",
       "    <tr>\n",
       "      <th>4</th>\n",
       "      <td>6db5e012cf2936fa</td>\n",
       "      <td>0.265625</td>\n",
       "      <td>0.778125</td>\n",
       "      <td>0.210145</td>\n",
       "      <td>0.526268</td>\n",
       "      <td>Boat</td>\n",
       "      <td>1</td>\n",
       "    </tr>\n",
       "  </tbody>\n",
       "</table>\n",
       "</div>"
      ],
      "text/plain": [
       "            ImageID      XMin      XMax      YMin      YMax Label  Confidence\n",
       "0  25e3acb1a25707dd  0.390625  0.999375  0.438149  0.999056  Boat           1\n",
       "1  9aaa4a4bce049a85  0.015919  0.946454  0.096610  0.901695  Boat           1\n",
       "2  6db5e012cf2936fa  0.037500  0.999375  0.381341  0.999094  Boat           1\n",
       "3  6db5e012cf2936fa  0.185000  0.700000  0.241848  0.494565  Boat           1\n",
       "4  6db5e012cf2936fa  0.265625  0.778125  0.210145  0.526268  Boat           1"
      ]
     },
     "execution_count": 20,
     "metadata": {},
     "output_type": "execute_result"
    }
   ],
   "source": [
    "annots_masks = annots[['ImageID','XMin', 'XMax', 'YMin', 'YMax','Label','Confidence']]\n",
    "annots_masks.head()"
   ]
  },
  {
   "cell_type": "code",
   "execution_count": 21,
   "metadata": {},
   "outputs": [],
   "source": [
    "def save_label(MASK_PATH, image_id, row=None):\n",
    "    \n",
    "    if os.path.isfile(os.path.join(MASK_PATH, \"{}.txt\".format(image_id)))==True:\n",
    "            return\n",
    "    else:\n",
    "\n",
    "        label_fp = os.path.join(MASK_PATH, \"{}.txt\".format(image_id))\n",
    "\n",
    "        f = open(label_fp, \"a\")\n",
    "        if row is None:\n",
    "            f.close()\n",
    "            return\n",
    "\n",
    "        XMin = row[1]\n",
    "        XMax = row[2]\n",
    "        YMin = row[3]\n",
    "        YMax = row[4]\n",
    "        label = row[5]\n",
    "        label = 0 #as we only have one class we use 0\n",
    "\n",
    "        rw = (XMax - XMin)\n",
    "        rh = (YMax - YMin)\n",
    "        rcx = XMin + rw/2\n",
    "        rcy = YMin + rh/2\n",
    "\n",
    "        line = \"{} {} {} {} {}\\n\".format(label, rcx, rcy, rw, rh)\n",
    "\n",
    "        f.write(line)\n",
    "        f.close()"
   ]
  },
  {
   "cell_type": "code",
   "execution_count": 22,
   "metadata": {},
   "outputs": [],
   "source": [
    "def save_image(FRAME_PATH, image_id, image_blob, dim):\n",
    "    \n",
    "    \n",
    "    try:\n",
    "        if os.path.isfile(os.path.join(FRAME_PATH, \"{}.jpg\".format(image_id)))==True:\n",
    "            return\n",
    "        else:\n",
    "            img_fp = os.path.join(FRAME_PATH, \"{}.jpg\".format(image_id))\n",
    "            image = np.asarray(bytearray(image_blob.download_as_string()), dtype=\"uint8\")\n",
    "            image = cv2.imdecode(image, cv2.IMREAD_UNCHANGED)\n",
    "            resized_image = cv2.resize(image, dim, interpolation=cv2.INTER_AREA)\n",
    "\n",
    "            if len(resized_image.shape) == 2:\n",
    "                resized_image = cv2.cvtColor(resized_image,cv2.COLOR_GRAY2RGB)\n",
    "\n",
    "            cv2.imwrite(img_fp, resized_image)\n",
    "    except:\n",
    "        #images missing that we won't add to the model\n",
    "\n",
    "        return image_id"
   ]
  },
  {
   "cell_type": "code",
   "execution_count": 23,
   "metadata": {},
   "outputs": [
    {
     "name": "stderr",
     "output_type": "stream",
     "text": [
      "100%|██████████| 79113/79113 [00:02<00:00, 33868.75it/s]\n"
     ]
    }
   ],
   "source": [
    "for row in tqdm(annots_masks.values):\n",
    "        image_id = row[0]\n",
    "        save_label(MASK_PATH, image_id, row)"
   ]
  },
  {
   "cell_type": "code",
   "execution_count": 24,
   "metadata": {},
   "outputs": [
    {
     "name": "stderr",
     "output_type": "stream",
     "text": [
      "/opt/conda/lib/python3.7/site-packages/ipykernel_launcher.py:4: SettingWithCopyWarning: \n",
      "A value is trying to be set on a copy of a slice from a DataFrame.\n",
      "Try using .loc[row_indexer,col_indexer] = value instead\n",
      "\n",
      "See the caveats in the documentation: https://pandas.pydata.org/pandas-docs/stable/user_guide/indexing.html#returning-a-view-versus-a-copy\n",
      "  after removing the cwd from sys.path.\n",
      "/opt/conda/lib/python3.7/site-packages/ipykernel_launcher.py:6: SettingWithCopyWarning: \n",
      "A value is trying to be set on a copy of a slice from a DataFrame\n",
      "\n",
      "See the caveats in the documentation: https://pandas.pydata.org/pandas-docs/stable/user_guide/indexing.html#returning-a-view-versus-a-copy\n",
      "  \n"
     ]
    }
   ],
   "source": [
    "image_annots = annots[['ImageID','OriginalURL']]\n",
    "#image_annots.loc[:,'OriginalURL'] = image_annots.loc[:,'OriginalURL'].apply(lambda x: x.replace('https://',''))\n",
    "\n",
    "image_annots['OriginalURL'] = image_annots['OriginalURL'].str.replace('https://','')\n",
    "\n",
    "image_annots.drop_duplicates(inplace = True)"
   ]
  },
  {
   "cell_type": "code",
   "execution_count": 25,
   "metadata": {},
   "outputs": [],
   "source": [
    "#image_annots.head()"
   ]
  },
  {
   "cell_type": "code",
   "execution_count": 26,
   "metadata": {},
   "outputs": [],
   "source": [
    "images = 100"
   ]
  },
  {
   "cell_type": "code",
   "execution_count": 27,
   "metadata": {},
   "outputs": [
    {
     "name": "stderr",
     "output_type": "stream",
     "text": [
      "100%|██████████| 100/100 [00:42<00:00,  2.33it/s]\n"
     ]
    }
   ],
   "source": [
    "WIDTH = SIZE\n",
    "HEIGHT = SIZE\n",
    "dim = (WIDTH, HEIGHT)\n",
    "\n",
    "not_images =[]\n",
    "\n",
    "for row in tqdm(image_annots.values[:images]):\n",
    "        image_id = row[0]\n",
    "        image_blob = bucket.blob(row[1])\n",
    "        not_img = save_image(FRAME_PATH, image_id,image_blob,dim)\n",
    "        \n",
    "        not_images.append(not_img)"
   ]
  },
  {
   "cell_type": "code",
   "execution_count": 28,
   "metadata": {},
   "outputs": [],
   "source": [
    "not_images_2 = [x for x in not_images if x is not None]"
   ]
  },
  {
   "cell_type": "code",
   "execution_count": 29,
   "metadata": {},
   "outputs": [
    {
     "data": {
      "text/plain": [
       "7"
      ]
     },
     "execution_count": 29,
     "metadata": {},
     "output_type": "execute_result"
    }
   ],
   "source": [
    "len(not_images_2)"
   ]
  },
  {
   "cell_type": "code",
   "execution_count": 30,
   "metadata": {},
   "outputs": [],
   "source": [
    "image_annots = image_annots[~image_annots['ImageID'].isin(not_images_2)][:(images-len(not_images_2)-10)]"
   ]
  },
  {
   "cell_type": "code",
   "execution_count": 31,
   "metadata": {},
   "outputs": [
    {
     "data": {
      "image/png": "[encoded data removed]",
      "text/plain": [
       "<Figure size 432x288 with 1 Axes>"
      ]
     },
     "metadata": {
      "needs_background": "light"
     },
     "output_type": "display_data"
    }
   ],
   "source": [
    "ex_image_id = image_annots.ImageID.values[80]\n",
    "ex_img_path = os.path.join(FRAME_PATH, \"{}.jpg\".format(ex_image_id))\n",
    "ex_label_path = os.path.join(MASK_PATH, \"{}.txt\".format(ex_image_id))\n",
    "\n",
    "plt.imshow(cv2.cvtColor(cv2.imread(ex_img_path),cv2.COLOR_BGR2RGB))\n",
    "    \n",
    "with open(ex_label_path, \"r\") as f:\n",
    "    for line in f:\n",
    "        x = line.strip().split()\n",
    "        class_name  = x[0]\n",
    "        rcx, rcy, rw, rh = [float(i) for i in x[1:]]\n",
    "        x = (rcx-rw/2)*dim[0]\n",
    "        y = (rcy-rh/2)*dim[1]\n",
    "        w = rw*dim[0]\n",
    "        h = rh*dim[1]\n",
    "        plt.plot([x, x, x+w, x+w, x], [y, y+h, y+h, y, y])"
   ]
  },
  {
   "cell_type": "code",
   "execution_count": 32,
   "metadata": {},
   "outputs": [],
   "source": [
    "def write_train_list(METADATA_PATH, FRAME_PATH, name, series):\n",
    "    list_fp = os.path.join(METADATA_PATH, name)\n",
    "\n",
    "    with open(list_fp, \"w\") as f:\n",
    "        for image_id in series:\n",
    "            line = \"{}\\n\".format(os.path.join(FRAME_PATH, \"{}.jpg\".format(image_id)))\n",
    "            f.write(line)"
   ]
  },
  {
   "cell_type": "code",
   "execution_count": 33,
   "metadata": {},
   "outputs": [
    {
     "data": {
      "text/plain": [
       "(83, 2)"
      ]
     },
     "execution_count": 33,
     "metadata": {},
     "output_type": "execute_result"
    }
   ],
   "source": [
    "image_annots.shape"
   ]
  },
  {
   "cell_type": "code",
   "execution_count": 34,
   "metadata": {},
   "outputs": [
    {
     "name": "stdout",
     "output_type": "stream",
     "text": [
      "The # of train set: 66, The # of validation set: 9 The # of test set: 8\n"
     ]
    }
   ],
   "source": [
    "tr_series, val_test_series = train_test_split(image_annots['ImageID'], test_size=0.2, random_state=random_stat)\n",
    "test_series, val_series = train_test_split(val_test_series, test_size=0.5, random_state=random_stat)\n",
    "\n",
    "print(f'The # of train set: {tr_series.shape[0]}, The # of validation set: {val_series.shape[0]} \\\n",
    "The # of test set: {test_series.shape[0]}')\n",
    "\n",
    "# train image path list\n",
    "write_train_list(METADATA_PATH, FRAME_PATH, \"tr_list.txt\", tr_series)\n",
    "# validation image path list\n",
    "write_train_list(METADATA_PATH, FRAME_PATH, \"val_list.txt\", val_series)\n",
    "# test image path list\n",
    "write_train_list(METADATA_PATH, FRAME_PATH, \"test_list.txt\", test_series)"
   ]
  },
  {
   "cell_type": "code",
   "execution_count": 35,
   "metadata": {},
   "outputs": [],
   "source": [
    "#Esto no funciona pero tampoco se para que sirve si ya tenemos la metadata con trin y validation lists (paths imagenes)\n",
    "\n",
    "#La idea es crear test images. Se puede mirar luego"
   ]
  },
  {
   "cell_type": "code",
   "execution_count": null,
   "metadata": {},
   "outputs": [],
   "source": []
  },
  {
   "cell_type": "code",
   "execution_count": 36,
   "metadata": {},
   "outputs": [],
   "source": [
    "data_extention_file_path = os.path.join(CONFIG_PATH, 'p1.data')\n",
    "with open(data_extention_file_path, 'w') as f:\n",
    "    contents = \"\"\"classes= 1\n",
    "train  = {}\n",
    "valid  = {}\n",
    "names  = {}\n",
    "backup = {}\n",
    "    \"\"\".format(os.path.join(METADATA_PATH, \"tr_list.txt\"),\n",
    "               os.path.join(METADATA_PATH, \"val_list.txt\"),\n",
    "               os.path.join(CONFIG_PATH, 'p1.names'),\n",
    "               BACKUP_PATH)\n",
    "    f.write(contents)"
   ]
  },
  {
   "cell_type": "code",
   "execution_count": 37,
   "metadata": {},
   "outputs": [
    {
     "name": "stdout",
     "output_type": "stream",
     "text": [
      "classes= 1\n",
      "train  = /home/jupyter/.local/share/Trash/files/metadata/tr_list.txt\n",
      "valid  = /home/jupyter/.local/share/Trash/files/metadata/val_list.txt\n",
      "names  = /home/jupyter/.local/share/Trash/files/cfg/p1.names\n",
      "backup = /home/jupyter/.local/share/Trash/files/backup\n",
      "    "
     ]
    }
   ],
   "source": [
    "!cat cfg/p1.data"
   ]
  },
  {
   "cell_type": "code",
   "execution_count": 38,
   "metadata": {},
   "outputs": [],
   "source": [
    "!echo \"boat\" > cfg/p1.names"
   ]
  },
  {
   "cell_type": "code",
   "execution_count": 53,
   "metadata": {},
   "outputs": [],
   "source": [
    "!cd darknet"
   ]
  },
  {
   "cell_type": "code",
   "execution_count": 54,
   "metadata": {},
   "outputs": [
    {
     "name": "stdout",
     "output_type": "stream",
     "text": [
      "(416, 416)\n"
     ]
    }
   ],
   "source": [
    "print(dim)"
   ]
  },
  {
   "cell_type": "code",
   "execution_count": 55,
   "metadata": {},
   "outputs": [
    {
     "name": "stdout",
     "output_type": "stream",
     "text": [
      "Images are: (416, 416)\n",
      "Couldn't open file: cfg/yolov3-p1.cfg\n",
      "yolov3-p1\n"
     ]
    }
   ],
   "source": [
    "\n",
    "print(f'Images are: {dim}')\n",
    "      \n",
    "#!./darknet_gpu detector train cfg/p1.data cfg/yolov3-open1.cfg darknet53.conv.74 -i 0 | tee train_log_open.txt\n",
    "\n",
    "!./darknet_gpu detector train cfg/p1.data cfg/yolov3-p1.cfg darknet53.conv.74 -i 0 | tee train_log_p1.txt"
   ]
  },
  {
   "cell_type": "code",
   "execution_count": 56,
   "metadata": {},
   "outputs": [
    {
     "data": {
      "text/plain": [
       "Text(0, 0.5, 'Loss')"
      ]
     },
     "execution_count": 56,
     "metadata": {},
     "output_type": "execute_result"
    },
    {
     "data": {
      "image/png": "[encoded data removed]",
      "text/plain": [
       "<Figure size 1440x360 with 1 Axes>"
      ]
     },
     "metadata": {
      "needs_background": "light"
     },
     "output_type": "display_data"
    }
   ],
   "source": [
    "iters = []\n",
    "losses = []\n",
    "total_losses = []\n",
    "with open(\"train_log_p1.txt\", 'r') as f:\n",
    "    for i,line in enumerate(f):\n",
    "        if \"images\" in line:\n",
    "            iters.append(int(line.strip().split()[0].split(\":\")[0]))\n",
    "            losses.append(float(line.strip().split()[2]))        \n",
    "            total_losses.append(float(line.strip().split()[1].split(',')[0]))\n",
    "\n",
    "plt.figure(figsize=(20, 5))\n",
    "plt.subplot(1,2,1)\n",
    "sns.lineplot(iters, total_losses, label=\"total loss\")\n",
    "sns.lineplot(iters, losses, label=\"avg loss\")\n",
    "plt.xlabel(\"Iteration\")\n",
    "plt.ylabel(\"Loss\")"
   ]
  },
  {
   "cell_type": "code",
   "execution_count": 43,
   "metadata": {},
   "outputs": [],
   "source": [
    "import shutil"
   ]
  },
  {
   "cell_type": "code",
   "execution_count": 44,
   "metadata": {},
   "outputs": [
    {
     "name": "stdout",
     "output_type": "stream",
     "text": [
      "6db5e012cf2936fa\n"
     ]
    }
   ],
   "source": [
    "ex_image_id = annots.ImageID.values[2]\n",
    "shutil.copy(ex_img_path, \"test.jpg\")\n",
    "print(ex_image_id)"
   ]
  },
  {
   "cell_type": "code",
   "execution_count": null,
   "metadata": {},
   "outputs": [],
   "source": []
  },
  {
   "cell_type": "code",
   "execution_count": 45,
   "metadata": {},
   "outputs": [
    {
     "name": "stdout",
     "output_type": "stream",
     "text": [
      "total 8.0K\n",
      "4.0K drwx------ 24 jupyter jupyter 4.0K May 29 15:59 ..\n",
      "4.0K drwxr-xr-x  2 jupyter jupyter 4.0K May 28 08:17 .\n"
     ]
    }
   ],
   "source": [
    "!ls -alsth backup"
   ]
  },
  {
   "cell_type": "code",
   "execution_count": 46,
   "metadata": {},
   "outputs": [],
   "source": [
    "!wget --no-check-certificate -q \"https://docs.google.com/uc?export=download&id=10Yk6ZMAKGz5LeBbikciALy82aK3lX-57\" -O cfg/rsna_yolov3.cfg_test"
   ]
  },
  {
   "cell_type": "code",
   "execution_count": 47,
   "metadata": {},
   "outputs": [
    {
     "name": "stdout",
     "output_type": "stream",
     "text": [
      "/bin/sh: 1: cd: can't cd to darknet\n"
     ]
    }
   ],
   "source": [
    "!cd darknet && ./darknet detector test ../cfg/p1.data ../cfg/yolov3-p1.cfg_test ../backup/yolov3-p1_300.weights ../test.jpg -thresh 0.005"
   ]
  },
  {
   "cell_type": "code",
   "execution_count": 48,
   "metadata": {},
   "outputs": [
    {
     "name": "stdout",
     "output_type": "stream",
     "text": [
      "/bin/sh: 1: Syntax error: word unexpected (expecting \")\")\n"
     ]
    }
   ],
   "source": [
    "![](predictions.jpg)"
   ]
  },
  {
   "cell_type": "code",
   "execution_count": 49,
   "metadata": {},
   "outputs": [],
   "source": [
    "#plt.imshow(cv2.imread(\"./darknet/predictions.jpg\"))"
   ]
  },
  {
   "cell_type": "code",
   "execution_count": null,
   "metadata": {},
   "outputs": [],
   "source": []
  },
  {
   "cell_type": "code",
   "execution_count": null,
   "metadata": {},
   "outputs": [],
   "source": []
  },
  {
   "cell_type": "code",
   "execution_count": null,
   "metadata": {},
   "outputs": [],
   "source": []
  },
  {
   "cell_type": "code",
   "execution_count": 50,
   "metadata": {},
   "outputs": [],
   "source": [
    "from ctypes import *\n",
    "import os"
   ]
  },
  {
   "cell_type": "code",
   "execution_count": 51,
   "metadata": {},
   "outputs": [
    {
     "ename": "OSError",
     "evalue": "./darknet/libdarknet.so: cannot open shared object file: No such file or directory",
     "output_type": "error",
     "traceback": [
      "\u001b[0;31m---------------------------------------------------------------------------\u001b[0m",
      "\u001b[0;31mOSError\u001b[0m                                   Traceback (most recent call last)",
      "\u001b[0;32m<ipython-input-51-e95ce85034a6>\u001b[0m in \u001b[0;36m<module>\u001b[0;34m\u001b[0m\n\u001b[0;32m----> 1\u001b[0;31m \u001b[0mlib\u001b[0m \u001b[0;34m=\u001b[0m \u001b[0mCDLL\u001b[0m\u001b[0;34m(\u001b[0m\u001b[0;34m\"./darknet/libdarknet.so\"\u001b[0m\u001b[0;34m,\u001b[0m \u001b[0mRTLD_GLOBAL\u001b[0m\u001b[0;34m)\u001b[0m\u001b[0;34m\u001b[0m\u001b[0;34m\u001b[0m\u001b[0m\n\u001b[0m\u001b[1;32m      2\u001b[0m \u001b[0mdarknet_lib_path\u001b[0m \u001b[0;34m=\u001b[0m \u001b[0mos\u001b[0m\u001b[0;34m.\u001b[0m\u001b[0mpath\u001b[0m\u001b[0;34m.\u001b[0m\u001b[0mjoin\u001b[0m\u001b[0;34m(\u001b[0m\u001b[0mos\u001b[0m\u001b[0;34m.\u001b[0m\u001b[0mgetcwd\u001b[0m\u001b[0;34m(\u001b[0m\u001b[0;34m)\u001b[0m\u001b[0;34m,\u001b[0m \u001b[0;34m\"darknet\"\u001b[0m\u001b[0;34m,\u001b[0m \u001b[0;34m\"libdarknet.so\"\u001b[0m\u001b[0;34m)\u001b[0m\u001b[0;34m\u001b[0m\u001b[0;34m\u001b[0m\u001b[0m\n\u001b[1;32m      3\u001b[0m \u001b[0mlib\u001b[0m \u001b[0;34m=\u001b[0m \u001b[0mCDLL\u001b[0m\u001b[0;34m(\u001b[0m\u001b[0mdarknet_lib_path\u001b[0m\u001b[0;34m,\u001b[0m \u001b[0mRTLD_GLOBAL\u001b[0m\u001b[0;34m)\u001b[0m\u001b[0;34m\u001b[0m\u001b[0;34m\u001b[0m\u001b[0m\n",
      "\u001b[0;32m/opt/conda/lib/python3.7/ctypes/__init__.py\u001b[0m in \u001b[0;36m__init__\u001b[0;34m(self, name, mode, handle, use_errno, use_last_error)\u001b[0m\n\u001b[1;32m    362\u001b[0m \u001b[0;34m\u001b[0m\u001b[0m\n\u001b[1;32m    363\u001b[0m         \u001b[0;32mif\u001b[0m \u001b[0mhandle\u001b[0m \u001b[0;32mis\u001b[0m \u001b[0;32mNone\u001b[0m\u001b[0;34m:\u001b[0m\u001b[0;34m\u001b[0m\u001b[0;34m\u001b[0m\u001b[0m\n\u001b[0;32m--> 364\u001b[0;31m             \u001b[0mself\u001b[0m\u001b[0;34m.\u001b[0m\u001b[0m_handle\u001b[0m \u001b[0;34m=\u001b[0m \u001b[0m_dlopen\u001b[0m\u001b[0;34m(\u001b[0m\u001b[0mself\u001b[0m\u001b[0;34m.\u001b[0m\u001b[0m_name\u001b[0m\u001b[0;34m,\u001b[0m \u001b[0mmode\u001b[0m\u001b[0;34m)\u001b[0m\u001b[0;34m\u001b[0m\u001b[0;34m\u001b[0m\u001b[0m\n\u001b[0m\u001b[1;32m    365\u001b[0m         \u001b[0;32melse\u001b[0m\u001b[0;34m:\u001b[0m\u001b[0;34m\u001b[0m\u001b[0;34m\u001b[0m\u001b[0m\n\u001b[1;32m    366\u001b[0m             \u001b[0mself\u001b[0m\u001b[0;34m.\u001b[0m\u001b[0m_handle\u001b[0m \u001b[0;34m=\u001b[0m \u001b[0mhandle\u001b[0m\u001b[0;34m\u001b[0m\u001b[0;34m\u001b[0m\u001b[0m\n",
      "\u001b[0;31mOSError\u001b[0m: ./darknet/libdarknet.so: cannot open shared object file: No such file or directory"
     ]
    }
   ],
   "source": [
    "lib = CDLL(\"./darknet/libdarknet.so\", RTLD_GLOBAL)\n",
    "darknet_lib_path = os.path.join(os.getcwd(), \"darknet\", \"libdarknet.so\")\n",
    "lib = CDLL(darknet_lib_path, RTLD_GLOBAL)"
   ]
  },
  {
   "cell_type": "code",
   "execution_count": null,
   "metadata": {},
   "outputs": [],
   "source": [
    "!wget --no-check-certificate -q \"https://docs.google.com/uc?export=download&id=1-KTV7K9G1bl3SmnLnzmpkDyNt6tDmH7j\" -O darknet.py"
   ]
  },
  {
   "cell_type": "code",
   "execution_count": null,
   "metadata": {},
   "outputs": [],
   "source": [
    "from darknet import *"
   ]
  },
  {
   "cell_type": "code",
   "execution_count": null,
   "metadata": {},
   "outputs": [],
   "source": [
    "threshold = 0.2"
   ]
  },
  {
   "cell_type": "code",
   "execution_count": null,
   "metadata": {},
   "outputs": [],
   "source": [
    "submit_file_path = \"submission.csv\"\n",
    "cfg_path = os.path.join(CONFIG_PATH, \"yolov3-p1.cfg\")\n",
    "weight_path = os.path.join(BACKUP_PATH, \"yolov3-p1_final.weights\")\n",
    "\n",
    "test_img_list_path = os.path.join(METADATA_PATH, \"test_list.txt\")"
   ]
  },
  {
   "cell_type": "code",
   "execution_count": null,
   "metadata": {},
   "outputs": [],
   "source": [
    "load_net = lib.load_network\n",
    "load_meta = lib.get_metadata\n",
    "load_image = lib.load_image_color"
   ]
  },
  {
   "cell_type": "code",
   "execution_count": null,
   "metadata": {},
   "outputs": [],
   "source": [
    "gpu_index = 0\n",
    "net = load_net(cfg_path.encode(),\n",
    "               weight_path.encode(), \n",
    "               gpu_index)"
   ]
  },
  {
   "cell_type": "code",
   "execution_count": null,
   "metadata": {},
   "outputs": [],
   "source": [
    "meta = load_meta(data_extention_file_path.encode())"
   ]
  },
  {
   "cell_type": "code",
   "execution_count": null,
   "metadata": {},
   "outputs": [],
   "source": [
    "submit_dict = {\"ImageId\": [], \"PredictionString\": []}\n",
    "\n",
    "with open(test_img_list_path, \"r\") as test_img_list_f:\n",
    "    # tqdm run up to 1000(The # of test set)\n",
    "    for line in tqdm(test_img_list_f):\n",
    "        image_id = line.strip().split('/')[-1].strip().split('.')[0]\n",
    "        print(image_id)\n",
    "        infer_result = detect(net, meta, line.strip().encode(), thresh=threshold)\n",
    "        print(infer_result)\n",
    "        submit_line = \"\"\n",
    "        for e in infer_result:\n",
    "            confi = e[1]\n",
    "            w = e[2][2]\n",
    "            h = e[2][3]\n",
    "            x = e[2][0]-w/2\n",
    "            y = e[2][1]-h/2\n",
    "            submit_line += \"{} {} {} {} {} \".format(confi, x, y, w, h)\n",
    "        print(submit_line)\n",
    "        submit_dict[\"ImageId\"].append(image_id)\n",
    "        submit_dict[\"PredictionString\"].append(submit_line)\n",
    "\n",
    "pd.DataFrame(submit_dict).to_csv(submit_file_path, index=False)"
   ]
  },
  {
   "cell_type": "code",
   "execution_count": null,
   "metadata": {},
   "outputs": [],
   "source": [
    "# !ls -lsht\n",
    "#!rm -rf darknet images labels metadata backup cfg\n",
    "#!rm -rf train_log.txt darknet53.conv.74 darknet.py darknet_gpu\n",
    "#!rm -rf test.jpg\n",
    "#!rm -rf __pycache__ .ipynb_checkpoints"
   ]
  },
  {
   "cell_type": "code",
   "execution_count": null,
   "metadata": {},
   "outputs": [],
   "source": [
    "#!ls -alsht"
   ]
  },
  {
   "cell_type": "code",
   "execution_count": null,
   "metadata": {},
   "outputs": [],
   "source": []
  },
  {
   "cell_type": "code",
   "execution_count": null,
   "metadata": {},
   "outputs": [],
   "source": []
  },
  {
   "cell_type": "code",
   "execution_count": null,
   "metadata": {},
   "outputs": [],
   "source": []
  },
  {
   "cell_type": "code",
   "execution_count": null,
   "metadata": {},
   "outputs": [],
   "source": []
  }
 ],
 "metadata": {
  "environment": {
   "name": "tf2-gpu.2-1.m46",
   "type": "gcloud",
   "uri": "gcr.io/deeplearning-platform-release/tf2-gpu.2-1:m46"
  },
  "kernelspec": {
   "display_name": "Python 3",
   "language": "python",
   "name": "python3"
  },
  "language_info": {
   "codemirror_mode": {
    "name": "ipython",
    "version": 3
   },
   "file_extension": ".py",
   "mimetype": "text/x-python",
   "name": "python",
   "nbconvert_exporter": "python",
   "pygments_lexer": "ipython3",
   "version": "3.7.6"
  }
 },
 "nbformat": 4,
 "nbformat_minor": 4
}
