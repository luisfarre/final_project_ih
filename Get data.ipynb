{
 "cells": [
  {
   "cell_type": "code",
   "execution_count": 1,
   "metadata": {},
   "outputs": [],
   "source": [
    "import pandas as pd\n",
    "import numpy as np"
   ]
  },
  {
   "cell_type": "code",
   "execution_count": 2,
   "metadata": {},
   "outputs": [],
   "source": [
    "df_class = pd.read_csv('class-descriptions-boxable.csv')"
   ]
  },
  {
   "cell_type": "code",
   "execution_count": 3,
   "metadata": {},
   "outputs": [
    {
     "data": {
      "text/plain": [
       "array(['Tortoise', 'Container', 'Magpie', 'Sea turtle', 'Football',\n",
       "       'Ambulance', 'Ladder', 'Toothbrush', 'Syringe', 'Sink', 'Toy',\n",
       "       'Organ (Musical Instrument)', 'Cassette deck', 'Apple',\n",
       "       'Human eye', 'Cosmetics', 'Paddle', 'Snowman', 'Beer',\n",
       "       'Chopsticks', 'Human beard', 'Bird', 'Parking meter',\n",
       "       'Traffic light', 'Croissant', 'Cucumber', 'Radish', 'Towel',\n",
       "       'Doll', 'Skull', 'Washing machine', 'Glove', 'Tick', 'Belt',\n",
       "       'Sunglasses', 'Banjo', 'Cart', 'Ball', 'Backpack', 'Bicycle',\n",
       "       'Home appliance', 'Centipede', 'Boat', 'Surfboard', 'Boot',\n",
       "       'Headphones', 'Hot dog', 'Shorts', 'Fast food', 'Bus'],\n",
       "      dtype=object)"
      ]
     },
     "execution_count": 3,
     "metadata": {},
     "output_type": "execute_result"
    }
   ],
   "source": [
    "df_class['Label'].unique()[:50]"
   ]
  },
  {
   "cell_type": "code",
   "execution_count": 4,
   "metadata": {},
   "outputs": [],
   "source": [
    "classes = ['Boat']"
   ]
  },
  {
   "cell_type": "code",
   "execution_count": 5,
   "metadata": {},
   "outputs": [],
   "source": [
    "classes_keys = df_class['LabelKey'][df_class['Label'].isin(classes)].unique()"
   ]
  },
  {
   "cell_type": "code",
   "execution_count": 6,
   "metadata": {},
   "outputs": [],
   "source": [
    "iter_csv = pd.read_csv('oidv6-train-annotations-bbox.csv', iterator=True, chunksize=10000)\n",
    "df_boxes = pd.concat([chunk[chunk['LabelName'].isin(classes_keys)] for chunk in iter_csv])"
   ]
  },
  {
   "cell_type": "code",
   "execution_count": 7,
   "metadata": {},
   "outputs": [
    {
     "data": {
      "text/plain": [
       "(79113, 21)"
      ]
     },
     "execution_count": 7,
     "metadata": {},
     "output_type": "execute_result"
    }
   ],
   "source": [
    "df_boxes.shape"
   ]
  },
  {
   "cell_type": "code",
   "execution_count": 8,
   "metadata": {},
   "outputs": [
    {
     "data": {
      "text/html": [
       "<div>\n",
       "<style scoped>\n",
       "    .dataframe tbody tr th:only-of-type {\n",
       "        vertical-align: middle;\n",
       "    }\n",
       "\n",
       "    .dataframe tbody tr th {\n",
       "        vertical-align: top;\n",
       "    }\n",
       "\n",
       "    .dataframe thead th {\n",
       "        text-align: right;\n",
       "    }\n",
       "</style>\n",
       "<table border=\"1\" class=\"dataframe\">\n",
       "  <thead>\n",
       "    <tr style=\"text-align: right;\">\n",
       "      <th></th>\n",
       "      <th>ImageID</th>\n",
       "      <th>Source</th>\n",
       "      <th>LabelName</th>\n",
       "      <th>Confidence</th>\n",
       "      <th>XMin</th>\n",
       "      <th>XMax</th>\n",
       "      <th>YMin</th>\n",
       "      <th>YMax</th>\n",
       "      <th>IsOccluded</th>\n",
       "      <th>IsTruncated</th>\n",
       "      <th>...</th>\n",
       "      <th>IsDepiction</th>\n",
       "      <th>IsInside</th>\n",
       "      <th>XClick1X</th>\n",
       "      <th>XClick2X</th>\n",
       "      <th>XClick3X</th>\n",
       "      <th>XClick4X</th>\n",
       "      <th>XClick1Y</th>\n",
       "      <th>XClick2Y</th>\n",
       "      <th>XClick3Y</th>\n",
       "      <th>XClick4Y</th>\n",
       "    </tr>\n",
       "  </thead>\n",
       "  <tbody>\n",
       "    <tr>\n",
       "      <th>78</th>\n",
       "      <td>00001bc2c4027449</td>\n",
       "      <td>xclick</td>\n",
       "      <td>/m/019jd</td>\n",
       "      <td>1</td>\n",
       "      <td>0.267500</td>\n",
       "      <td>0.765000</td>\n",
       "      <td>0.240833</td>\n",
       "      <td>0.802500</td>\n",
       "      <td>1</td>\n",
       "      <td>0</td>\n",
       "      <td>...</td>\n",
       "      <td>0</td>\n",
       "      <td>0</td>\n",
       "      <td>0.593750</td>\n",
       "      <td>0.267500</td>\n",
       "      <td>0.471250</td>\n",
       "      <td>0.765000</td>\n",
       "      <td>0.240833</td>\n",
       "      <td>0.677500</td>\n",
       "      <td>0.802500</td>\n",
       "      <td>0.641667</td>\n",
       "    </tr>\n",
       "    <tr>\n",
       "      <th>1208</th>\n",
       "      <td>0000c035a08c3770</td>\n",
       "      <td>xclick</td>\n",
       "      <td>/m/019jd</td>\n",
       "      <td>1</td>\n",
       "      <td>0.000000</td>\n",
       "      <td>0.996248</td>\n",
       "      <td>0.000000</td>\n",
       "      <td>0.972500</td>\n",
       "      <td>1</td>\n",
       "      <td>1</td>\n",
       "      <td>...</td>\n",
       "      <td>0</td>\n",
       "      <td>0</td>\n",
       "      <td>0.448405</td>\n",
       "      <td>0.000000</td>\n",
       "      <td>0.332083</td>\n",
       "      <td>0.996248</td>\n",
       "      <td>0.000000</td>\n",
       "      <td>0.472500</td>\n",
       "      <td>0.972500</td>\n",
       "      <td>0.527500</td>\n",
       "    </tr>\n",
       "    <tr>\n",
       "      <th>2663</th>\n",
       "      <td>00019f5540822905</td>\n",
       "      <td>xclick</td>\n",
       "      <td>/m/019jd</td>\n",
       "      <td>1</td>\n",
       "      <td>0.526875</td>\n",
       "      <td>0.927500</td>\n",
       "      <td>0.628518</td>\n",
       "      <td>0.757974</td>\n",
       "      <td>1</td>\n",
       "      <td>0</td>\n",
       "      <td>...</td>\n",
       "      <td>0</td>\n",
       "      <td>0</td>\n",
       "      <td>0.893125</td>\n",
       "      <td>0.927500</td>\n",
       "      <td>0.851875</td>\n",
       "      <td>0.526875</td>\n",
       "      <td>0.628518</td>\n",
       "      <td>0.717636</td>\n",
       "      <td>0.757974</td>\n",
       "      <td>0.679174</td>\n",
       "    </tr>\n",
       "    <tr>\n",
       "      <th>6431</th>\n",
       "      <td>000477fbd201b1ff</td>\n",
       "      <td>xclick</td>\n",
       "      <td>/m/019jd</td>\n",
       "      <td>1</td>\n",
       "      <td>0.578889</td>\n",
       "      <td>0.700000</td>\n",
       "      <td>0.216875</td>\n",
       "      <td>0.453125</td>\n",
       "      <td>1</td>\n",
       "      <td>0</td>\n",
       "      <td>...</td>\n",
       "      <td>0</td>\n",
       "      <td>0</td>\n",
       "      <td>0.654444</td>\n",
       "      <td>0.578889</td>\n",
       "      <td>0.656667</td>\n",
       "      <td>0.700000</td>\n",
       "      <td>0.216875</td>\n",
       "      <td>0.424375</td>\n",
       "      <td>0.453125</td>\n",
       "      <td>0.433125</td>\n",
       "    </tr>\n",
       "    <tr>\n",
       "      <th>8438</th>\n",
       "      <td>0005d3d4f802db0a</td>\n",
       "      <td>xclick</td>\n",
       "      <td>/m/019jd</td>\n",
       "      <td>1</td>\n",
       "      <td>0.000000</td>\n",
       "      <td>0.422500</td>\n",
       "      <td>0.238999</td>\n",
       "      <td>0.831752</td>\n",
       "      <td>0</td>\n",
       "      <td>0</td>\n",
       "      <td>...</td>\n",
       "      <td>0</td>\n",
       "      <td>0</td>\n",
       "      <td>0.274375</td>\n",
       "      <td>0.000000</td>\n",
       "      <td>0.338750</td>\n",
       "      <td>0.422500</td>\n",
       "      <td>0.238999</td>\n",
       "      <td>0.764452</td>\n",
       "      <td>0.831752</td>\n",
       "      <td>0.732528</td>\n",
       "    </tr>\n",
       "  </tbody>\n",
       "</table>\n",
       "<p>5 rows × 21 columns</p>\n",
       "</div>"
      ],
      "text/plain": [
       "               ImageID  Source LabelName  Confidence      XMin      XMax  \\\n",
       "78    00001bc2c4027449  xclick  /m/019jd           1  0.267500  0.765000   \n",
       "1208  0000c035a08c3770  xclick  /m/019jd           1  0.000000  0.996248   \n",
       "2663  00019f5540822905  xclick  /m/019jd           1  0.526875  0.927500   \n",
       "6431  000477fbd201b1ff  xclick  /m/019jd           1  0.578889  0.700000   \n",
       "8438  0005d3d4f802db0a  xclick  /m/019jd           1  0.000000  0.422500   \n",
       "\n",
       "          YMin      YMax  IsOccluded  IsTruncated  ...  IsDepiction  IsInside  \\\n",
       "78    0.240833  0.802500           1            0  ...            0         0   \n",
       "1208  0.000000  0.972500           1            1  ...            0         0   \n",
       "2663  0.628518  0.757974           1            0  ...            0         0   \n",
       "6431  0.216875  0.453125           1            0  ...            0         0   \n",
       "8438  0.238999  0.831752           0            0  ...            0         0   \n",
       "\n",
       "      XClick1X  XClick2X  XClick3X  XClick4X  XClick1Y  XClick2Y  XClick3Y  \\\n",
       "78    0.593750  0.267500  0.471250  0.765000  0.240833  0.677500  0.802500   \n",
       "1208  0.448405  0.000000  0.332083  0.996248  0.000000  0.472500  0.972500   \n",
       "2663  0.893125  0.927500  0.851875  0.526875  0.628518  0.717636  0.757974   \n",
       "6431  0.654444  0.578889  0.656667  0.700000  0.216875  0.424375  0.453125   \n",
       "8438  0.274375  0.000000  0.338750  0.422500  0.238999  0.764452  0.831752   \n",
       "\n",
       "      XClick4Y  \n",
       "78    0.641667  \n",
       "1208  0.527500  \n",
       "2663  0.679174  \n",
       "6431  0.433125  \n",
       "8438  0.732528  \n",
       "\n",
       "[5 rows x 21 columns]"
      ]
     },
     "execution_count": 8,
     "metadata": {},
     "output_type": "execute_result"
    }
   ],
   "source": [
    "df_boxes.head()"
   ]
  },
  {
   "cell_type": "code",
   "execution_count": 26,
   "metadata": {},
   "outputs": [
    {
     "data": {
      "text/plain": [
       "Index(['ImageID', 'Source', 'LabelName', 'Confidence', 'XMin', 'XMax', 'YMin',\n",
       "       'YMax', 'IsOccluded', 'IsTruncated', 'IsGroupOf', 'IsDepiction',\n",
       "       'IsInside', 'XClick1X', 'XClick2X', 'XClick3X', 'XClick4X', 'XClick1Y',\n",
       "       'XClick2Y', 'XClick3Y', 'XClick4Y'],\n",
       "      dtype='object')"
      ]
     },
     "execution_count": 26,
     "metadata": {},
     "output_type": "execute_result"
    }
   ],
   "source": [
    "df_boxes.columns"
   ]
  },
  {
   "cell_type": "code",
   "execution_count": 9,
   "metadata": {},
   "outputs": [],
   "source": [
    "iter_csv = pd.read_csv('oidv6-train-annotations-human-imagelabels.csv', iterator=True, chunksize=10000)\n",
    "df_human_annot = pd.concat([chunk[chunk['LabelName'].isin(classes_keys)] for chunk in iter_csv])"
   ]
  },
  {
   "cell_type": "code",
   "execution_count": 10,
   "metadata": {},
   "outputs": [],
   "source": [
    "#Why do we need human annotations"
   ]
  },
  {
   "cell_type": "code",
   "execution_count": 11,
   "metadata": {},
   "outputs": [],
   "source": [
    "#df_human_annot.shape"
   ]
  },
  {
   "cell_type": "code",
   "execution_count": 12,
   "metadata": {},
   "outputs": [],
   "source": [
    "#df_human_annot.head()"
   ]
  },
  {
   "cell_type": "code",
   "execution_count": 13,
   "metadata": {},
   "outputs": [],
   "source": [
    "ID_list = df_boxes['ImageID'].unique()"
   ]
  },
  {
   "cell_type": "code",
   "execution_count": 14,
   "metadata": {},
   "outputs": [],
   "source": [
    "iter_csv = pd.read_csv('train-images-boxable-with-rotation.csv', iterator=True, chunksize=10000)\n",
    "df_image = pd.concat([chunk[chunk['ImageID'].isin(ID_list)] for chunk in iter_csv])"
   ]
  },
  {
   "cell_type": "code",
   "execution_count": 15,
   "metadata": {},
   "outputs": [
    {
     "data": {
      "text/plain": [
       "(25478, 12)"
      ]
     },
     "execution_count": 15,
     "metadata": {},
     "output_type": "execute_result"
    }
   ],
   "source": [
    "df_image.shape"
   ]
  },
  {
   "cell_type": "code",
   "execution_count": 16,
   "metadata": {},
   "outputs": [
    {
     "data": {
      "text/plain": [
       "Index(['ImageID', 'Subset', 'OriginalURL', 'OriginalLandingURL', 'License',\n",
       "       'AuthorProfileURL', 'Author', 'Title', 'OriginalSize', 'OriginalMD5',\n",
       "       'Thumbnail300KURL', 'Rotation'],\n",
       "      dtype='object')"
      ]
     },
     "execution_count": 16,
     "metadata": {},
     "output_type": "execute_result"
    }
   ],
   "source": [
    "df_image.columns"
   ]
  },
  {
   "cell_type": "code",
   "execution_count": 17,
   "metadata": {},
   "outputs": [
    {
     "data": {
      "text/html": [
       "<div>\n",
       "<style scoped>\n",
       "    .dataframe tbody tr th:only-of-type {\n",
       "        vertical-align: middle;\n",
       "    }\n",
       "\n",
       "    .dataframe tbody tr th {\n",
       "        vertical-align: top;\n",
       "    }\n",
       "\n",
       "    .dataframe thead th {\n",
       "        text-align: right;\n",
       "    }\n",
       "</style>\n",
       "<table border=\"1\" class=\"dataframe\">\n",
       "  <thead>\n",
       "    <tr style=\"text-align: right;\">\n",
       "      <th></th>\n",
       "      <th>ImageID</th>\n",
       "      <th>Subset</th>\n",
       "      <th>OriginalURL</th>\n",
       "      <th>OriginalLandingURL</th>\n",
       "      <th>License</th>\n",
       "      <th>AuthorProfileURL</th>\n",
       "      <th>Author</th>\n",
       "      <th>Title</th>\n",
       "      <th>OriginalSize</th>\n",
       "      <th>OriginalMD5</th>\n",
       "      <th>Thumbnail300KURL</th>\n",
       "      <th>Rotation</th>\n",
       "    </tr>\n",
       "  </thead>\n",
       "  <tbody>\n",
       "    <tr>\n",
       "      <th>74</th>\n",
       "      <td>25e3acb1a25707dd</td>\n",
       "      <td>train</td>\n",
       "      <td>https://c6.staticflickr.com/8/7659/17891339551...</td>\n",
       "      <td>https://www.flickr.com/photos/archiefalkmaar/1...</td>\n",
       "      <td>https://creativecommons.org/licenses/by/2.0/</td>\n",
       "      <td>https://www.flickr.com/people/archiefalkmaar/</td>\n",
       "      <td>Regionaal Archief Alkmaar</td>\n",
       "      <td>Vrijwilligersuitje 2015</td>\n",
       "      <td>2677536</td>\n",
       "      <td>FvIDdDhff45GCENbR2CXuQ==</td>\n",
       "      <td>https://c5.staticflickr.com/8/7659/17891339551...</td>\n",
       "      <td>0.0</td>\n",
       "    </tr>\n",
       "    <tr>\n",
       "      <th>83</th>\n",
       "      <td>9aaa4a4bce049a85</td>\n",
       "      <td>train</td>\n",
       "      <td>https://farm6.staticflickr.com/8164/7388947910...</td>\n",
       "      <td>https://www.flickr.com/photos/45131642@N00/738...</td>\n",
       "      <td>https://creativecommons.org/licenses/by/2.0/</td>\n",
       "      <td>https://www.flickr.com/people/45131642@N00/</td>\n",
       "      <td>Phil Parker</td>\n",
       "      <td>Decks and Boats in</td>\n",
       "      <td>28624</td>\n",
       "      <td>8Jqvyk2WuArDznavCtpBnA==</td>\n",
       "      <td>https://c7.staticflickr.com/9/8164/7388947910_...</td>\n",
       "      <td>0.0</td>\n",
       "    </tr>\n",
       "    <tr>\n",
       "      <th>265</th>\n",
       "      <td>6db5e012cf2936fa</td>\n",
       "      <td>train</td>\n",
       "      <td>https://c3.staticflickr.com/3/2874/9062318686_...</td>\n",
       "      <td>https://www.flickr.com/photos/atgeist/9062318686</td>\n",
       "      <td>https://creativecommons.org/licenses/by/2.0/</td>\n",
       "      <td>https://www.flickr.com/people/atgeist/</td>\n",
       "      <td>TownePost Network</td>\n",
       "      <td>Cocktail Cove cuties get the party started</td>\n",
       "      <td>5036881</td>\n",
       "      <td>6Rn5G58CFybS6b1wUeTApg==</td>\n",
       "      <td>https://c3.staticflickr.com/3/2874/9062318686_...</td>\n",
       "      <td>0.0</td>\n",
       "    </tr>\n",
       "    <tr>\n",
       "      <th>326</th>\n",
       "      <td>ad3d362f5abb39e5</td>\n",
       "      <td>train</td>\n",
       "      <td>https://farm6.staticflickr.com/5720/2116326194...</td>\n",
       "      <td>https://flickr.com/27366393@N00/21163261942</td>\n",
       "      <td>https://creativecommons.org/licenses/by/2.0/</td>\n",
       "      <td>https://www.flickr.com/people/alecperkins/</td>\n",
       "      <td>Alec Perkins</td>\n",
       "      <td>Jersey City Triathlon</td>\n",
       "      <td>2128344</td>\n",
       "      <td>WkWUDm1bSDlnv7mWUb7PUA==</td>\n",
       "      <td>https://c7.staticflickr.com/6/5720/21163261942...</td>\n",
       "      <td>0.0</td>\n",
       "    </tr>\n",
       "    <tr>\n",
       "      <th>421</th>\n",
       "      <td>9172175c072967ae</td>\n",
       "      <td>train</td>\n",
       "      <td>https://c7.staticflickr.com/1/64/214333364_5dd...</td>\n",
       "      <td>https://www.flickr.com/photos/simiant/214333364</td>\n",
       "      <td>https://creativecommons.org/licenses/by/2.0/</td>\n",
       "      <td>https://www.flickr.com/people/simiant/</td>\n",
       "      <td>nathan williams</td>\n",
       "      <td>Mega-Yacht</td>\n",
       "      <td>835503</td>\n",
       "      <td>b2ThuubQXK4EWh9NqaR7Ng==</td>\n",
       "      <td>https://c2.staticflickr.com/1/64/214333364_5dd...</td>\n",
       "      <td>0.0</td>\n",
       "    </tr>\n",
       "  </tbody>\n",
       "</table>\n",
       "</div>"
      ],
      "text/plain": [
       "              ImageID Subset  \\\n",
       "74   25e3acb1a25707dd  train   \n",
       "83   9aaa4a4bce049a85  train   \n",
       "265  6db5e012cf2936fa  train   \n",
       "326  ad3d362f5abb39e5  train   \n",
       "421  9172175c072967ae  train   \n",
       "\n",
       "                                           OriginalURL  \\\n",
       "74   https://c6.staticflickr.com/8/7659/17891339551...   \n",
       "83   https://farm6.staticflickr.com/8164/7388947910...   \n",
       "265  https://c3.staticflickr.com/3/2874/9062318686_...   \n",
       "326  https://farm6.staticflickr.com/5720/2116326194...   \n",
       "421  https://c7.staticflickr.com/1/64/214333364_5dd...   \n",
       "\n",
       "                                    OriginalLandingURL  \\\n",
       "74   https://www.flickr.com/photos/archiefalkmaar/1...   \n",
       "83   https://www.flickr.com/photos/45131642@N00/738...   \n",
       "265   https://www.flickr.com/photos/atgeist/9062318686   \n",
       "326        https://flickr.com/27366393@N00/21163261942   \n",
       "421    https://www.flickr.com/photos/simiant/214333364   \n",
       "\n",
       "                                          License  \\\n",
       "74   https://creativecommons.org/licenses/by/2.0/   \n",
       "83   https://creativecommons.org/licenses/by/2.0/   \n",
       "265  https://creativecommons.org/licenses/by/2.0/   \n",
       "326  https://creativecommons.org/licenses/by/2.0/   \n",
       "421  https://creativecommons.org/licenses/by/2.0/   \n",
       "\n",
       "                                  AuthorProfileURL                     Author  \\\n",
       "74   https://www.flickr.com/people/archiefalkmaar/  Regionaal Archief Alkmaar   \n",
       "83     https://www.flickr.com/people/45131642@N00/                Phil Parker   \n",
       "265         https://www.flickr.com/people/atgeist/          TownePost Network   \n",
       "326     https://www.flickr.com/people/alecperkins/               Alec Perkins   \n",
       "421         https://www.flickr.com/people/simiant/            nathan williams   \n",
       "\n",
       "                                          Title  OriginalSize  \\\n",
       "74                      Vrijwilligersuitje 2015       2677536   \n",
       "83                           Decks and Boats in         28624   \n",
       "265  Cocktail Cove cuties get the party started       5036881   \n",
       "326                       Jersey City Triathlon       2128344   \n",
       "421                                  Mega-Yacht        835503   \n",
       "\n",
       "                  OriginalMD5  \\\n",
       "74   FvIDdDhff45GCENbR2CXuQ==   \n",
       "83   8Jqvyk2WuArDznavCtpBnA==   \n",
       "265  6Rn5G58CFybS6b1wUeTApg==   \n",
       "326  WkWUDm1bSDlnv7mWUb7PUA==   \n",
       "421  b2ThuubQXK4EWh9NqaR7Ng==   \n",
       "\n",
       "                                      Thumbnail300KURL  Rotation  \n",
       "74   https://c5.staticflickr.com/8/7659/17891339551...       0.0  \n",
       "83   https://c7.staticflickr.com/9/8164/7388947910_...       0.0  \n",
       "265  https://c3.staticflickr.com/3/2874/9062318686_...       0.0  \n",
       "326  https://c7.staticflickr.com/6/5720/21163261942...       0.0  \n",
       "421  https://c2.staticflickr.com/1/64/214333364_5dd...       0.0  "
      ]
     },
     "execution_count": 17,
     "metadata": {},
     "output_type": "execute_result"
    }
   ],
   "source": [
    "df_image.head()"
   ]
  },
  {
   "cell_type": "code",
   "execution_count": 18,
   "metadata": {},
   "outputs": [
    {
     "data": {
      "text/plain": [
       "'https://farm6.staticflickr.com/5720/21163261942_4ab31fb58f_o.jpg'"
      ]
     },
     "execution_count": 18,
     "metadata": {},
     "output_type": "execute_result"
    }
   ],
   "source": [
    "df_image['OriginalURL'][326]"
   ]
  },
  {
   "cell_type": "code",
   "execution_count": 19,
   "metadata": {},
   "outputs": [],
   "source": [
    "df_all_data = df_image.merge(df_boxes, left_on = 'ImageID', right_on = 'ImageID',how = 'left')"
   ]
  },
  {
   "cell_type": "code",
   "execution_count": 20,
   "metadata": {},
   "outputs": [
    {
     "data": {
      "text/plain": [
       "(79113, 32)"
      ]
     },
     "execution_count": 20,
     "metadata": {},
     "output_type": "execute_result"
    }
   ],
   "source": [
    "df_all_data.shape"
   ]
  },
  {
   "cell_type": "code",
   "execution_count": 21,
   "metadata": {},
   "outputs": [
    {
     "data": {
      "text/html": [
       "<div>\n",
       "<style scoped>\n",
       "    .dataframe tbody tr th:only-of-type {\n",
       "        vertical-align: middle;\n",
       "    }\n",
       "\n",
       "    .dataframe tbody tr th {\n",
       "        vertical-align: top;\n",
       "    }\n",
       "\n",
       "    .dataframe thead th {\n",
       "        text-align: right;\n",
       "    }\n",
       "</style>\n",
       "<table border=\"1\" class=\"dataframe\">\n",
       "  <thead>\n",
       "    <tr style=\"text-align: right;\">\n",
       "      <th></th>\n",
       "      <th>ImageID</th>\n",
       "      <th>Subset</th>\n",
       "      <th>OriginalURL</th>\n",
       "      <th>OriginalLandingURL</th>\n",
       "      <th>License</th>\n",
       "      <th>AuthorProfileURL</th>\n",
       "      <th>Author</th>\n",
       "      <th>Title</th>\n",
       "      <th>OriginalSize</th>\n",
       "      <th>OriginalMD5</th>\n",
       "      <th>...</th>\n",
       "      <th>IsDepiction</th>\n",
       "      <th>IsInside</th>\n",
       "      <th>XClick1X</th>\n",
       "      <th>XClick2X</th>\n",
       "      <th>XClick3X</th>\n",
       "      <th>XClick4X</th>\n",
       "      <th>XClick1Y</th>\n",
       "      <th>XClick2Y</th>\n",
       "      <th>XClick3Y</th>\n",
       "      <th>XClick4Y</th>\n",
       "    </tr>\n",
       "  </thead>\n",
       "  <tbody>\n",
       "    <tr>\n",
       "      <th>0</th>\n",
       "      <td>25e3acb1a25707dd</td>\n",
       "      <td>train</td>\n",
       "      <td>https://c6.staticflickr.com/8/7659/17891339551...</td>\n",
       "      <td>https://www.flickr.com/photos/archiefalkmaar/1...</td>\n",
       "      <td>https://creativecommons.org/licenses/by/2.0/</td>\n",
       "      <td>https://www.flickr.com/people/archiefalkmaar/</td>\n",
       "      <td>Regionaal Archief Alkmaar</td>\n",
       "      <td>Vrijwilligersuitje 2015</td>\n",
       "      <td>2677536</td>\n",
       "      <td>FvIDdDhff45GCENbR2CXuQ==</td>\n",
       "      <td>...</td>\n",
       "      <td>0</td>\n",
       "      <td>0</td>\n",
       "      <td>0.715000</td>\n",
       "      <td>0.766875</td>\n",
       "      <td>0.999375</td>\n",
       "      <td>0.390625</td>\n",
       "      <td>0.438149</td>\n",
       "      <td>0.999056</td>\n",
       "      <td>0.885741</td>\n",
       "      <td>0.915958</td>\n",
       "    </tr>\n",
       "    <tr>\n",
       "      <th>1</th>\n",
       "      <td>9aaa4a4bce049a85</td>\n",
       "      <td>train</td>\n",
       "      <td>https://farm6.staticflickr.com/8164/7388947910...</td>\n",
       "      <td>https://www.flickr.com/photos/45131642@N00/738...</td>\n",
       "      <td>https://creativecommons.org/licenses/by/2.0/</td>\n",
       "      <td>https://www.flickr.com/people/45131642@N00/</td>\n",
       "      <td>Phil Parker</td>\n",
       "      <td>Decks and Boats in</td>\n",
       "      <td>28624</td>\n",
       "      <td>8Jqvyk2WuArDznavCtpBnA==</td>\n",
       "      <td>...</td>\n",
       "      <td>1</td>\n",
       "      <td>0</td>\n",
       "      <td>-1.000000</td>\n",
       "      <td>-1.000000</td>\n",
       "      <td>-1.000000</td>\n",
       "      <td>-1.000000</td>\n",
       "      <td>-1.000000</td>\n",
       "      <td>-1.000000</td>\n",
       "      <td>-1.000000</td>\n",
       "      <td>-1.000000</td>\n",
       "    </tr>\n",
       "    <tr>\n",
       "      <th>2</th>\n",
       "      <td>6db5e012cf2936fa</td>\n",
       "      <td>train</td>\n",
       "      <td>https://c3.staticflickr.com/3/2874/9062318686_...</td>\n",
       "      <td>https://www.flickr.com/photos/atgeist/9062318686</td>\n",
       "      <td>https://creativecommons.org/licenses/by/2.0/</td>\n",
       "      <td>https://www.flickr.com/people/atgeist/</td>\n",
       "      <td>TownePost Network</td>\n",
       "      <td>Cocktail Cove cuties get the party started</td>\n",
       "      <td>5036881</td>\n",
       "      <td>6Rn5G58CFybS6b1wUeTApg==</td>\n",
       "      <td>...</td>\n",
       "      <td>0</td>\n",
       "      <td>0</td>\n",
       "      <td>0.975000</td>\n",
       "      <td>0.999375</td>\n",
       "      <td>0.780625</td>\n",
       "      <td>0.037500</td>\n",
       "      <td>0.381341</td>\n",
       "      <td>0.456522</td>\n",
       "      <td>0.999094</td>\n",
       "      <td>0.999094</td>\n",
       "    </tr>\n",
       "    <tr>\n",
       "      <th>3</th>\n",
       "      <td>6db5e012cf2936fa</td>\n",
       "      <td>train</td>\n",
       "      <td>https://c3.staticflickr.com/3/2874/9062318686_...</td>\n",
       "      <td>https://www.flickr.com/photos/atgeist/9062318686</td>\n",
       "      <td>https://creativecommons.org/licenses/by/2.0/</td>\n",
       "      <td>https://www.flickr.com/people/atgeist/</td>\n",
       "      <td>TownePost Network</td>\n",
       "      <td>Cocktail Cove cuties get the party started</td>\n",
       "      <td>5036881</td>\n",
       "      <td>6Rn5G58CFybS6b1wUeTApg==</td>\n",
       "      <td>...</td>\n",
       "      <td>0</td>\n",
       "      <td>0</td>\n",
       "      <td>0.690000</td>\n",
       "      <td>0.231250</td>\n",
       "      <td>0.185000</td>\n",
       "      <td>0.700000</td>\n",
       "      <td>0.241848</td>\n",
       "      <td>0.395833</td>\n",
       "      <td>0.494565</td>\n",
       "      <td>0.259058</td>\n",
       "    </tr>\n",
       "    <tr>\n",
       "      <th>4</th>\n",
       "      <td>6db5e012cf2936fa</td>\n",
       "      <td>train</td>\n",
       "      <td>https://c3.staticflickr.com/3/2874/9062318686_...</td>\n",
       "      <td>https://www.flickr.com/photos/atgeist/9062318686</td>\n",
       "      <td>https://creativecommons.org/licenses/by/2.0/</td>\n",
       "      <td>https://www.flickr.com/people/atgeist/</td>\n",
       "      <td>TownePost Network</td>\n",
       "      <td>Cocktail Cove cuties get the party started</td>\n",
       "      <td>5036881</td>\n",
       "      <td>6Rn5G58CFybS6b1wUeTApg==</td>\n",
       "      <td>...</td>\n",
       "      <td>0</td>\n",
       "      <td>0</td>\n",
       "      <td>0.766875</td>\n",
       "      <td>0.265625</td>\n",
       "      <td>0.337500</td>\n",
       "      <td>0.778125</td>\n",
       "      <td>0.210145</td>\n",
       "      <td>0.455616</td>\n",
       "      <td>0.526268</td>\n",
       "      <td>0.368659</td>\n",
       "    </tr>\n",
       "  </tbody>\n",
       "</table>\n",
       "<p>5 rows × 32 columns</p>\n",
       "</div>"
      ],
      "text/plain": [
       "            ImageID Subset                                        OriginalURL  \\\n",
       "0  25e3acb1a25707dd  train  https://c6.staticflickr.com/8/7659/17891339551...   \n",
       "1  9aaa4a4bce049a85  train  https://farm6.staticflickr.com/8164/7388947910...   \n",
       "2  6db5e012cf2936fa  train  https://c3.staticflickr.com/3/2874/9062318686_...   \n",
       "3  6db5e012cf2936fa  train  https://c3.staticflickr.com/3/2874/9062318686_...   \n",
       "4  6db5e012cf2936fa  train  https://c3.staticflickr.com/3/2874/9062318686_...   \n",
       "\n",
       "                                  OriginalLandingURL  \\\n",
       "0  https://www.flickr.com/photos/archiefalkmaar/1...   \n",
       "1  https://www.flickr.com/photos/45131642@N00/738...   \n",
       "2   https://www.flickr.com/photos/atgeist/9062318686   \n",
       "3   https://www.flickr.com/photos/atgeist/9062318686   \n",
       "4   https://www.flickr.com/photos/atgeist/9062318686   \n",
       "\n",
       "                                        License  \\\n",
       "0  https://creativecommons.org/licenses/by/2.0/   \n",
       "1  https://creativecommons.org/licenses/by/2.0/   \n",
       "2  https://creativecommons.org/licenses/by/2.0/   \n",
       "3  https://creativecommons.org/licenses/by/2.0/   \n",
       "4  https://creativecommons.org/licenses/by/2.0/   \n",
       "\n",
       "                                AuthorProfileURL                     Author  \\\n",
       "0  https://www.flickr.com/people/archiefalkmaar/  Regionaal Archief Alkmaar   \n",
       "1    https://www.flickr.com/people/45131642@N00/                Phil Parker   \n",
       "2         https://www.flickr.com/people/atgeist/          TownePost Network   \n",
       "3         https://www.flickr.com/people/atgeist/          TownePost Network   \n",
       "4         https://www.flickr.com/people/atgeist/          TownePost Network   \n",
       "\n",
       "                                        Title  OriginalSize  \\\n",
       "0                     Vrijwilligersuitje 2015       2677536   \n",
       "1                          Decks and Boats in         28624   \n",
       "2  Cocktail Cove cuties get the party started       5036881   \n",
       "3  Cocktail Cove cuties get the party started       5036881   \n",
       "4  Cocktail Cove cuties get the party started       5036881   \n",
       "\n",
       "                OriginalMD5  ... IsDepiction  IsInside  XClick1X  XClick2X  \\\n",
       "0  FvIDdDhff45GCENbR2CXuQ==  ...           0         0  0.715000  0.766875   \n",
       "1  8Jqvyk2WuArDznavCtpBnA==  ...           1         0 -1.000000 -1.000000   \n",
       "2  6Rn5G58CFybS6b1wUeTApg==  ...           0         0  0.975000  0.999375   \n",
       "3  6Rn5G58CFybS6b1wUeTApg==  ...           0         0  0.690000  0.231250   \n",
       "4  6Rn5G58CFybS6b1wUeTApg==  ...           0         0  0.766875  0.265625   \n",
       "\n",
       "   XClick3X  XClick4X  XClick1Y  XClick2Y  XClick3Y  XClick4Y  \n",
       "0  0.999375  0.390625  0.438149  0.999056  0.885741  0.915958  \n",
       "1 -1.000000 -1.000000 -1.000000 -1.000000 -1.000000 -1.000000  \n",
       "2  0.780625  0.037500  0.381341  0.456522  0.999094  0.999094  \n",
       "3  0.185000  0.700000  0.241848  0.395833  0.494565  0.259058  \n",
       "4  0.337500  0.778125  0.210145  0.455616  0.526268  0.368659  \n",
       "\n",
       "[5 rows x 32 columns]"
      ]
     },
     "execution_count": 21,
     "metadata": {},
     "output_type": "execute_result"
    }
   ],
   "source": [
    "df_all_data.head()"
   ]
  },
  {
   "cell_type": "code",
   "execution_count": 24,
   "metadata": {},
   "outputs": [
    {
     "data": {
      "text/plain": [
       "(79113, 32)"
      ]
     },
     "execution_count": 24,
     "metadata": {},
     "output_type": "execute_result"
    }
   ],
   "source": [
    "df_all_data.shape"
   ]
  },
  {
   "cell_type": "code",
   "execution_count": 25,
   "metadata": {},
   "outputs": [
    {
     "data": {
      "text/plain": [
       "Index(['ImageID', 'Subset', 'OriginalURL', 'OriginalLandingURL', 'License',\n",
       "       'AuthorProfileURL', 'Author', 'Title', 'OriginalSize', 'OriginalMD5',\n",
       "       'Thumbnail300KURL', 'Rotation', 'Source', 'LabelName', 'Confidence',\n",
       "       'XMin', 'XMax', 'YMin', 'YMax', 'IsOccluded', 'IsTruncated',\n",
       "       'IsGroupOf', 'IsDepiction', 'IsInside', 'XClick1X', 'XClick2X',\n",
       "       'XClick3X', 'XClick4X', 'XClick1Y', 'XClick2Y', 'XClick3Y', 'XClick4Y'],\n",
       "      dtype='object')"
      ]
     },
     "execution_count": 25,
     "metadata": {},
     "output_type": "execute_result"
    }
   ],
   "source": [
    "df_all_data.columns"
   ]
  },
  {
   "cell_type": "code",
   "execution_count": 22,
   "metadata": {},
   "outputs": [],
   "source": [
    "df_all_data.to_csv('df_all_data.csv',index = False)"
   ]
  },
  {
   "cell_type": "code",
   "execution_count": null,
   "metadata": {},
   "outputs": [],
   "source": [
    "list_urls = df_all_data['OriginalURL'].unique()"
   ]
  },
  {
   "cell_type": "code",
   "execution_count": null,
   "metadata": {},
   "outputs": [],
   "source": [
    "#crear el .tsv para poder descargar las imagenes"
   ]
  },
  {
   "cell_type": "code",
   "execution_count": null,
   "metadata": {},
   "outputs": [],
   "source": [
    "df_tsv = pd.concat([pd.read_csv(f'TSVs/open-images-dataset-train{i[0]}.tsv', sep='\\t').reset_index() for i in range(0,10)])"
   ]
  },
  {
   "cell_type": "code",
   "execution_count": null,
   "metadata": {},
   "outputs": [],
   "source": [
    "df_tsv.head()"
   ]
  },
  {
   "cell_type": "code",
   "execution_count": null,
   "metadata": {},
   "outputs": [],
   "source": [
    "df_class_tsv = df_tsv[df_tsv['level_0'].isin(list_urls)]"
   ]
  },
  {
   "cell_type": "code",
   "execution_count": null,
   "metadata": {},
   "outputs": [],
   "source": [
    "df_class_tsv.shape"
   ]
  },
  {
   "cell_type": "code",
   "execution_count": null,
   "metadata": {},
   "outputs": [],
   "source": [
    "df_class_tsv.to_csv(f'images_{classes}_tsv_file.tsv',sep='\\t',index = False)"
   ]
  },
  {
   "cell_type": "code",
   "execution_count": null,
   "metadata": {},
   "outputs": [],
   "source": []
  }
 ],
 "metadata": {
  "kernelspec": {
   "display_name": "Python 3",
   "language": "python",
   "name": "python3"
  },
  "language_info": {
   "codemirror_mode": {
    "name": "ipython",
    "version": 3
   },
   "file_extension": ".py",
   "mimetype": "text/x-python",
   "name": "python",
   "nbconvert_exporter": "python",
   "pygments_lexer": "ipython3",
   "version": "3.7.6"
  }
 },
 "nbformat": 4,
 "nbformat_minor": 2
}
